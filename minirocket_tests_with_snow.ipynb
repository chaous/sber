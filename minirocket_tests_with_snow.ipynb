{
 "cells": [
  {
   "cell_type": "code",
   "execution_count": null,
   "metadata": {
    "colab": {
     "base_uri": "https://localhost:8080/"
    },
    "id": "uwfJANaByPK1",
    "outputId": "cd3fed35-eccc-4299-9a96-f324e3b232cc"
   },
   "outputs": [],
   "source": [
    "# # **************** UNCOMMENT AND RUN THIS CELL IF YOU NEED TO INSTALL/ UPGRADE TSAI & SKTIME ****************\n",
    "stable = False # Set to True for latest pip version or False for main branch in GitHub\n",
    "!pip install tsai\n",
    "!pip install sktime -U  >> /dev/null"
   ]
  },
  {
   "cell_type": "code",
   "execution_count": null,
   "metadata": {},
   "outputs": [],
   "source": [
    "!pip install ipywidgets"
   ]
  },
  {
   "cell_type": "code",
   "execution_count": 3,
   "metadata": {
    "colab": {
     "base_uri": "https://localhost:8080/"
    },
    "id": "-_RRPWiZyVn9",
    "outputId": "998710d0-5e43-451c-c0f5-7e5a0cdb58cb"
   },
   "outputs": [
    {
     "name": "stdout",
     "output_type": "stream",
     "text": [
      "os             : Linux-5.13.0-41-generic-x86_64-with-glibc2.17\n",
      "python         : 3.8.13\n",
      "tsai           : 0.3.1\n",
      "fastai         : 2.6.3\n",
      "fastcore       : 1.4.3\n",
      "sktime         : 0.11.4\n",
      "sklearn        : 1.1.1\n",
      "torch          : 1.11.0+cu102\n",
      "device         : cpu\n",
      "cpu cores      : 16\n",
      "RAM            : 15.0 GB\n",
      "GPU memory     : N/A\n"
     ]
    }
   ],
   "source": [
    "from tsai.basics import *\n",
    "import sktime\n",
    "import sklearn\n",
    "import numpy as np\n",
    "my_setup(sktime, sklearn)"
   ]
  },
  {
   "cell_type": "code",
   "execution_count": 2,
   "metadata": {
    "id": "LoJ6JdQZz9VW"
   },
   "outputs": [],
   "source": [
    "from tsai.models.MINIROCKET import *"
   ]
  },
  {
   "cell_type": "code",
   "execution_count": 3,
   "metadata": {
    "id": "AT-aNO81yX2B"
   },
   "outputs": [],
   "source": [
    "path_to_data = \"./\""
   ]
  },
  {
   "cell_type": "code",
   "execution_count": 4,
   "metadata": {},
   "outputs": [
    {
     "name": "stdout",
     "output_type": "stream",
     "text": [
      "actual_data_predict.ipynb         prediction_for_10_days.ipynb\r\n",
      "\u001b[0m\u001b[01;34mdata\u001b[0m/                             \u001b[01;34mpreprocessing\u001b[0m/\r\n",
      "data.json                         snow.ipynb\r\n",
      "dockerfile                        tree_reggression.ipynb\r\n",
      "minirocket_tests_with_snow.ipynb  visualisation.py\r\n",
      "pavodki_inference.ipynb\r\n"
     ]
    }
   ],
   "source": [
    "ls"
   ]
  },
  {
   "cell_type": "code",
   "execution_count": 5,
   "metadata": {
    "id": "DBmt-HOizAg1"
   },
   "outputs": [],
   "source": [
    "df = pd.read_csv('data/data_2022/only_zeya_fixed_actual_data.csv')"
   ]
  },
  {
   "cell_type": "code",
   "execution_count": 6,
   "metadata": {},
   "outputs": [
    {
     "data": {
      "text/html": [
       "<div>\n",
       "<style scoped>\n",
       "    .dataframe tbody tr th:only-of-type {\n",
       "        vertical-align: middle;\n",
       "    }\n",
       "\n",
       "    .dataframe tbody tr th {\n",
       "        vertical-align: top;\n",
       "    }\n",
       "\n",
       "    .dataframe thead th {\n",
       "        text-align: right;\n",
       "    }\n",
       "</style>\n",
       "<table border=\"1\" class=\"dataframe\">\n",
       "  <thead>\n",
       "    <tr style=\"text-align: right;\">\n",
       "      <th></th>\n",
       "      <th>Unnamed: 0</th>\n",
       "      <th>zeya-malayasazanka</th>\n",
       "      <th>zeya-svobodny</th>\n",
       "      <th>zeya-blagoveshensk</th>\n",
       "      <th>zeya-mazanovo</th>\n",
       "      <th>zeya-belogorye</th>\n",
       "    </tr>\n",
       "  </thead>\n",
       "  <tbody>\n",
       "    <tr>\n",
       "      <th>0</th>\n",
       "      <td>2008-01-01</td>\n",
       "      <td>435.0</td>\n",
       "      <td>163.0</td>\n",
       "      <td>148.0</td>\n",
       "      <td>218.0</td>\n",
       "      <td>341.0</td>\n",
       "    </tr>\n",
       "    <tr>\n",
       "      <th>1</th>\n",
       "      <td>2008-01-02</td>\n",
       "      <td>441.0</td>\n",
       "      <td>162.0</td>\n",
       "      <td>151.0</td>\n",
       "      <td>222.0</td>\n",
       "      <td>350.0</td>\n",
       "    </tr>\n",
       "    <tr>\n",
       "      <th>2</th>\n",
       "      <td>2008-01-03</td>\n",
       "      <td>447.0</td>\n",
       "      <td>161.0</td>\n",
       "      <td>157.0</td>\n",
       "      <td>226.0</td>\n",
       "      <td>361.0</td>\n",
       "    </tr>\n",
       "    <tr>\n",
       "      <th>3</th>\n",
       "      <td>2008-01-04</td>\n",
       "      <td>447.0</td>\n",
       "      <td>154.0</td>\n",
       "      <td>163.0</td>\n",
       "      <td>230.0</td>\n",
       "      <td>367.0</td>\n",
       "    </tr>\n",
       "    <tr>\n",
       "      <th>4</th>\n",
       "      <td>2008-01-05</td>\n",
       "      <td>443.0</td>\n",
       "      <td>144.0</td>\n",
       "      <td>168.0</td>\n",
       "      <td>222.0</td>\n",
       "      <td>364.0</td>\n",
       "    </tr>\n",
       "    <tr>\n",
       "      <th>...</th>\n",
       "      <td>...</td>\n",
       "      <td>...</td>\n",
       "      <td>...</td>\n",
       "      <td>...</td>\n",
       "      <td>...</td>\n",
       "      <td>...</td>\n",
       "    </tr>\n",
       "    <tr>\n",
       "      <th>5254</th>\n",
       "      <td>2022-05-21</td>\n",
       "      <td>500.0</td>\n",
       "      <td>227.0</td>\n",
       "      <td>169.0</td>\n",
       "      <td>219.0</td>\n",
       "      <td>393.0</td>\n",
       "    </tr>\n",
       "    <tr>\n",
       "      <th>5255</th>\n",
       "      <td>2022-05-22</td>\n",
       "      <td>533.0</td>\n",
       "      <td>247.0</td>\n",
       "      <td>174.0</td>\n",
       "      <td>203.0</td>\n",
       "      <td>412.0</td>\n",
       "    </tr>\n",
       "    <tr>\n",
       "      <th>5256</th>\n",
       "      <td>2022-05-23</td>\n",
       "      <td>533.0</td>\n",
       "      <td>234.0</td>\n",
       "      <td>181.0</td>\n",
       "      <td>228.0</td>\n",
       "      <td>412.0</td>\n",
       "    </tr>\n",
       "    <tr>\n",
       "      <th>5257</th>\n",
       "      <td>2022-05-24</td>\n",
       "      <td>522.0</td>\n",
       "      <td>224.0</td>\n",
       "      <td>190.0</td>\n",
       "      <td>324.0</td>\n",
       "      <td>404.0</td>\n",
       "    </tr>\n",
       "    <tr>\n",
       "      <th>5258</th>\n",
       "      <td>2022-05-25</td>\n",
       "      <td>570.0</td>\n",
       "      <td>298.0</td>\n",
       "      <td>196.0</td>\n",
       "      <td>372.0</td>\n",
       "      <td>446.0</td>\n",
       "    </tr>\n",
       "  </tbody>\n",
       "</table>\n",
       "<p>5259 rows × 6 columns</p>\n",
       "</div>"
      ],
      "text/plain": [
       "      Unnamed: 0  zeya-malayasazanka  zeya-svobodny  zeya-blagoveshensk  \\\n",
       "0     2008-01-01               435.0          163.0               148.0   \n",
       "1     2008-01-02               441.0          162.0               151.0   \n",
       "2     2008-01-03               447.0          161.0               157.0   \n",
       "3     2008-01-04               447.0          154.0               163.0   \n",
       "4     2008-01-05               443.0          144.0               168.0   \n",
       "...          ...                 ...            ...                 ...   \n",
       "5254  2022-05-21               500.0          227.0               169.0   \n",
       "5255  2022-05-22               533.0          247.0               174.0   \n",
       "5256  2022-05-23               533.0          234.0               181.0   \n",
       "5257  2022-05-24               522.0          224.0               190.0   \n",
       "5258  2022-05-25               570.0          298.0               196.0   \n",
       "\n",
       "      zeya-mazanovo  zeya-belogorye  \n",
       "0             218.0           341.0  \n",
       "1             222.0           350.0  \n",
       "2             226.0           361.0  \n",
       "3             230.0           367.0  \n",
       "4             222.0           364.0  \n",
       "...             ...             ...  \n",
       "5254          219.0           393.0  \n",
       "5255          203.0           412.0  \n",
       "5256          228.0           412.0  \n",
       "5257          324.0           404.0  \n",
       "5258          372.0           446.0  \n",
       "\n",
       "[5259 rows x 6 columns]"
      ]
     },
     "execution_count": 6,
     "metadata": {},
     "output_type": "execute_result"
    }
   ],
   "source": [
    "# df = df.drop(['snow_high', 'snow_level', 'snow_Q1'], axis=1)\n",
    "df"
   ]
  },
  {
   "cell_type": "code",
   "execution_count": 7,
   "metadata": {},
   "outputs": [
    {
     "data": {
      "text/plain": [
       "array([[435., 163., 148., 218., 341.],\n",
       "       [441., 162., 151., 222., 350.],\n",
       "       [447., 161., 157., 226., 361.],\n",
       "       ...,\n",
       "       [533., 234., 181., 228., 412.],\n",
       "       [522., 224., 190., 324., 404.],\n",
       "       [570., 298., 196., 372., 446.]])"
      ]
     },
     "execution_count": 7,
     "metadata": {},
     "output_type": "execute_result"
    }
   ],
   "source": [
    "X = df[df.keys()[1:]].to_numpy()\n",
    "X"
   ]
  },
  {
   "cell_type": "code",
   "execution_count": 8,
   "metadata": {},
   "outputs": [
    {
     "data": {
      "text/plain": [
       "(5259, 5)"
      ]
     },
     "execution_count": 8,
     "metadata": {},
     "output_type": "execute_result"
    }
   ],
   "source": [
    "X.shape"
   ]
  },
  {
   "cell_type": "code",
   "execution_count": 9,
   "metadata": {},
   "outputs": [],
   "source": [
    "number_of_frames = X.shape[1]\n"
   ]
  },
  {
   "cell_type": "code",
   "execution_count": 10,
   "metadata": {},
   "outputs": [],
   "source": [
    "def create_dataset(df, num_days=365):\n",
    "    number_of_frames = df[df.keys()[2:]].to_numpy().shape[1]\n",
    "    X = df[df.keys()[1:]].to_numpy().reshape(-1, number_of_frames, 1)\n",
    "    array_for_concat = []\n",
    "    for i in range(num_days):\n",
    "        array_for_concat.append(X[i:X.shape[0]-(num_days - i)])\n",
    "    new_X = np.concatenate(array_for_concat, axis=-1)\n",
    "    y = df['zeya-blagoveshensk'].to_numpy()[num_days:]\n",
    "    \n",
    "    return new_X, y"
   ]
  },
  {
   "cell_type": "code",
   "execution_count": 11,
   "metadata": {},
   "outputs": [],
   "source": [
    "def create_multiple_dataset(df, num_days=365, days_forward=1):\n",
    "    number_of_frames = df[df.keys()[1:]].to_numpy().shape[1]\n",
    "    X = df[df.keys()[1:]].to_numpy().reshape(-1, number_of_frames, 1)\n",
    "    array_for_concat = []\n",
    "    for i in range(num_days):\n",
    "        array_for_concat.append(X[i:X.shape[0]-(num_days - i)-days_forward+1])\n",
    "    new_X = np.concatenate(array_for_concat, axis=-1)\n",
    "    y = df['zeya-blagoveshensk'].to_numpy().reshape(-1, 1)\n",
    "    array_for_concat = []\n",
    "    for i in range(days_forward):\n",
    "        array_for_concat.append(y[num_days+i:y.shape[0] - (days_forward - i - 1)])\n",
    "    new_y = np.concatenate(array_for_concat, axis=-1)\n",
    "    \n",
    "    return new_X, new_y"
   ]
  },
  {
   "cell_type": "code",
   "execution_count": 12,
   "metadata": {},
   "outputs": [],
   "source": [
    "def create_multiple_dataset_preprocessed(df, num_days=365, days_forward=1):\n",
    "    number_of_frames = df[df.keys()[2:]].to_numpy().shape[1]\n",
    "    X = df[df.keys()[1:]].to_numpy().reshape(-1, number_of_frames, 1)\n",
    "    array_for_concat = []\n",
    "    for i in range(num_days):\n",
    "        array_for_concat.append(X[i:X.shape[0]-(num_days - i)-days_forward+1])\n",
    "    new_X = np.concatenate(array_for_concat, axis=-1)\n",
    "    y = df['zeya-blagoveshensk'].to_numpy().reshape(-1, 1)\n",
    "    array_for_concat = []\n",
    "    for i in range(days_forward):\n",
    "        array_for_concat.append(y[num_days+i:y.shape[0] - (days_forward - i - 1)])\n",
    "    new_y = np.concatenate(array_for_concat, axis=-1)\n",
    "    \n",
    "    return new_X / np.linalg.norm(new_X), new_y / np.linalg.norm(new_y)"
   ]
  },
  {
   "cell_type": "code",
   "execution_count": 13,
   "metadata": {},
   "outputs": [],
   "source": [
    "def create_single_dataset(df, num_days=365, days_forward=1):\n",
    "    number_of_frames = df[df.keys()[2:]].to_numpy().shape[1]\n",
    "    X = df[df.keys()[1:]].to_numpy().reshape(-1, number_of_frames, 1)\n",
    "    array_for_concat = []\n",
    "    for i in range(num_days):\n",
    "        array_for_concat.append(X[i:X.shape[0]-(num_days - i)-days_forward+1])\n",
    "    new_X = np.concatenate(array_for_concat, axis=-1)\n",
    "    y = df['zeya-blagoveshensk'].to_numpy().reshape(-1, 1)\n",
    "    array_for_concat = []\n",
    "    for i in range(days_forward):\n",
    "        array_for_concat.append(y[num_days+i:y.shape[0] - (days_forward - i - 1)])\n",
    "    new_y = np.concatenate(array_for_concat, axis=-1)\n",
    "    return new_X, new_y[:, -1]"
   ]
  },
  {
   "cell_type": "code",
   "execution_count": 14,
   "metadata": {},
   "outputs": [],
   "source": [
    "def create_multiple_dataset_preprocessed(df, num_days=365, days_forward=1):\n",
    "    number_of_frames = df[df.keys()[2:]].to_numpy().shape[1]\n",
    "    X = df[df.keys()[1:]].to_numpy().reshape(-1, number_of_frames, 1)\n",
    "    array_for_concat = []\n",
    "    for i in range(num_days):\n",
    "        array_for_concat.append(X[i:X.shape[0]-(num_days - i)-days_forward+1])\n",
    "    new_X = np.concatenate(array_for_concat, axis=-1)\n",
    "    y = df['zeya-blagoveshensk'].to_numpy().reshape(-1, 1)\n",
    "    array_for_concat = []\n",
    "    for i in range(days_forward):\n",
    "        array_for_concat.append(y[num_days+i:y.shape[0] - (days_forward - i - 1)])\n",
    "    new_y = np.concatenate(array_for_concat, axis=-1)\n",
    "    \n",
    "    return new_X / np.linalg.norm(new_X), new_y / np.linalg.norm(new_y)"
   ]
  },
  {
   "cell_type": "code",
   "execution_count": 15,
   "metadata": {},
   "outputs": [],
   "source": [
    "X, y = create_multiple_dataset(df, 365, 1)"
   ]
  },
  {
   "cell_type": "code",
   "execution_count": 16,
   "metadata": {},
   "outputs": [
    {
     "data": {
      "text/plain": [
       "((4894, 5, 365), (4894, 1))"
      ]
     },
     "execution_count": 16,
     "metadata": {},
     "output_type": "execute_result"
    }
   ],
   "source": [
    "X.shape, y.shape"
   ]
  },
  {
   "cell_type": "code",
   "execution_count": 17,
   "metadata": {},
   "outputs": [
    {
     "data": {
      "text/plain": [
       "array([[143.],\n",
       "       [148.],\n",
       "       [140.],\n",
       "       ...,\n",
       "       [181.],\n",
       "       [190.],\n",
       "       [196.]])"
      ]
     },
     "execution_count": 17,
     "metadata": {},
     "output_type": "execute_result"
    }
   ],
   "source": [
    "y"
   ]
  },
  {
   "cell_type": "code",
   "execution_count": null,
   "metadata": {},
   "outputs": [],
   "source": []
  },
  {
   "cell_type": "code",
   "execution_count": 18,
   "metadata": {
    "id": "oktpC0eLzPjB",
    "scrolled": true
   },
   "outputs": [
    {
     "ename": "NameError",
     "evalue": "name 'df1' is not defined",
     "output_type": "error",
     "traceback": [
      "\u001b[0;31m---------------------------------------------------------------------------\u001b[0m",
      "\u001b[0;31mNameError\u001b[0m                                 Traceback (most recent call last)",
      "Input \u001b[0;32mIn [18]\u001b[0m, in \u001b[0;36m<cell line: 1>\u001b[0;34m()\u001b[0m\n\u001b[0;32m----> 1\u001b[0m X \u001b[38;5;241m=\u001b[39m \u001b[43mdf1\u001b[49m[\u001b[38;5;124m'\u001b[39m\u001b[38;5;124mValue\u001b[39m\u001b[38;5;124m'\u001b[39m]\u001b[38;5;241m.\u001b[39mto_numpy()\n\u001b[1;32m      2\u001b[0m X \u001b[38;5;241m=\u001b[39m X\u001b[38;5;241m.\u001b[39mreshape(\u001b[38;5;241m-\u001b[39m\u001b[38;5;241m1\u001b[39m, \u001b[38;5;241m1\u001b[39m)\n",
      "\u001b[0;31mNameError\u001b[0m: name 'df1' is not defined"
     ]
    }
   ],
   "source": [
    "X = df1['Value'].to_numpy()\n",
    "X = X.reshape(-1, 1)"
   ]
  },
  {
   "cell_type": "code",
   "execution_count": 19,
   "metadata": {
    "id": "W24NmfChzYn_"
   },
   "outputs": [],
   "source": [
    "def make_ts(n):\n",
    "    res = []\n",
    "    for i in range(n + 1):\n",
    "        res.append(X[i:6401-(n - i)])\n",
    "    return res"
   ]
  },
  {
   "cell_type": "code",
   "execution_count": 1,
   "metadata": {
    "id": "NIuhBNs9zcW6"
   },
   "outputs": [],
   "source": [
    "def make_dataset_from_x(n):\n",
    "    X11 = np.concatenate(np.array(make_ts(n)), axis=1)[:-1].reshape((-1, 1, n + 1))\n",
    "    y1 = X[n + 1:]\n",
    "    return X11, y1"
   ]
  },
  {
   "cell_type": "code",
   "execution_count": 2,
   "metadata": {
    "id": "0eAJdd7HzfTf"
   },
   "outputs": [
    {
     "ename": "NameError",
     "evalue": "name 'np' is not defined",
     "output_type": "error",
     "traceback": [
      "\u001b[0;31m---------------------------------------------------------------------------\u001b[0m",
      "\u001b[0;31mNameError\u001b[0m                                 Traceback (most recent call last)",
      "Input \u001b[0;32mIn [2]\u001b[0m, in \u001b[0;36m<cell line: 1>\u001b[0;34m()\u001b[0m\n\u001b[0;32m----> 1\u001b[0m X1, y \u001b[38;5;241m=\u001b[39m \u001b[43mmake_dataset_from_x\u001b[49m\u001b[43m(\u001b[49m\u001b[38;5;241;43m364\u001b[39;49m\u001b[43m)\u001b[49m\n",
      "Input \u001b[0;32mIn [1]\u001b[0m, in \u001b[0;36mmake_dataset_from_x\u001b[0;34m(n)\u001b[0m\n\u001b[1;32m      1\u001b[0m \u001b[38;5;28;01mdef\u001b[39;00m \u001b[38;5;21mmake_dataset_from_x\u001b[39m(n):\n\u001b[0;32m----> 2\u001b[0m     X11 \u001b[38;5;241m=\u001b[39m \u001b[43mnp\u001b[49m\u001b[38;5;241m.\u001b[39mconcatenate(np\u001b[38;5;241m.\u001b[39marray(make_ts(n)), axis\u001b[38;5;241m=\u001b[39m\u001b[38;5;241m1\u001b[39m)[:\u001b[38;5;241m-\u001b[39m\u001b[38;5;241m1\u001b[39m]\u001b[38;5;241m.\u001b[39mreshape((\u001b[38;5;241m-\u001b[39m\u001b[38;5;241m1\u001b[39m, \u001b[38;5;241m1\u001b[39m, n \u001b[38;5;241m+\u001b[39m \u001b[38;5;241m1\u001b[39m))\n\u001b[1;32m      3\u001b[0m     y1 \u001b[38;5;241m=\u001b[39m X[n \u001b[38;5;241m+\u001b[39m \u001b[38;5;241m1\u001b[39m:]\n\u001b[1;32m      4\u001b[0m     \u001b[38;5;28;01mreturn\u001b[39;00m X11, y1\n",
      "\u001b[0;31mNameError\u001b[0m: name 'np' is not defined"
     ]
    }
   ],
   "source": [
    "X1, y = make_dataset_from_x(364)"
   ]
  },
  {
   "cell_type": "code",
   "execution_count": null,
   "metadata": {},
   "outputs": [],
   "source": [
    "1 - float((X.shape[0] - 10) / X.shape[0])"
   ]
  },
  {
   "cell_type": "code",
   "execution_count": null,
   "metadata": {
    "colab": {
     "base_uri": "https://localhost:8080/",
     "height": 183
    },
    "id": "P215eXKhzl8f",
    "outputId": "3481eff0-76e8-4172-afbd-9250e835364e"
   },
   "outputs": [],
   "source": [
    "from sklearn.model_selection import train_test_split\n",
    "valid_leng = 1 - float((X.shape[0] - 10) / X.shape[0])\n",
    "X_train, X_valid, y_train, y_valid = train_test_split(X, y, test_size=0.3, shuffle=True)\n",
    "X_train, X_, y_train, y_ = train_test_split(X_train, y_train, test_size=1, shuffle=True)\n",
    "#X_train, X_valid, y_trai, y_valid = train_test_split(X, y, , shuffle=False)\n",
    "y_.shape"
   ]
  },
  {
   "cell_type": "code",
   "execution_count": null,
   "metadata": {
    "colab": {
     "base_uri": "https://localhost:8080/"
    },
    "id": "Hwrzc_nizmhq",
    "outputId": "f8d14663-83fc-4c5d-c736-558ec383b7b9"
   },
   "outputs": [],
   "source": [
    "# Univariate regression with sklearn-type API\n",
    "from sklearn.metrics import mean_squared_error, mean_absolute_error, make_scorer\n",
    "rmse_scorer = make_scorer(mean_squared_error, greater_is_better=False)\n",
    "model = MiniRocketRegressor(scoring=rmse_scorer)\n",
    "print(model)\n",
    "timer.start(False)\n",
    "model.fit(X_train, y_train)\n",
    "t = timer.stop()\n",
    "y_pred = model.predict(X_valid)\n",
    "rmse = mean_squared_error(y_valid, y_pred, squared=False)\n",
    "mae = mean_absolute_error(y_valid, y_pred)\n",
    "print(f'valid rmse        : {rmse:.5f} time: {t}')\n",
    "print(f'valid mae        : {mae:.5f} time: {t}')"
   ]
  },
  {
   "cell_type": "code",
   "execution_count": null,
   "metadata": {
    "scrolled": false
   },
   "outputs": [],
   "source": [
    "#make grahs\n",
    "import matplotlib.pyplot as plt\n",
    "valid_value = []\n",
    "predicted_value = []\n",
    "for i in range(len(y_valid[0])):\n",
    "    valid_value.append([])\n",
    "    predicted_value.append([])\n",
    "for valid, pred in zip(y_valid, y_pred):\n",
    "    for i in range(len(valid)):\n",
    "        valid_value[i].append(valid[i])\n",
    "        predicted_value[i].append(pred[i])\n",
    "for valid, pred in zip(valid_value, predicted_value):\n",
    "    plt.plot(valid, color='r', label='valid')\n",
    "    plt.plot(pred, color='g', label='predicted')\n",
    "    plt.legend()\n",
    "    plt.show()"
   ]
  },
  {
   "cell_type": "code",
   "execution_count": null,
   "metadata": {
    "scrolled": false
   },
   "outputs": [],
   "source": [
    "#make grahs for extreeme levels\n",
    "import matplotlib.pyplot as plt\n",
    "CRITICAL_LEVEL = 510\n",
    "valid_value = []\n",
    "predicted_value = []\n",
    "for i in range(len(y_valid[0])):\n",
    "    valid_value.append([])\n",
    "    predicted_value.append([])\n",
    "for valid, pred in zip(y_valid, y_pred):\n",
    "    for i in range(len(valid)):\n",
    "        if valid[i] >= CRITICAL_LEVEL:\n",
    "            valid_value[i].append(valid[i])\n",
    "            predicted_value[i].append(pred[i])\n",
    "for valid, pred in zip(valid_value, predicted_value):\n",
    "    plt.plot(valid, color='r', label='valid')\n",
    "    plt.plot(pred, color='g', label='predicted')\n",
    "    plt.legend()\n",
    "    plt.show()"
   ]
  },
  {
   "cell_type": "code",
   "execution_count": null,
   "metadata": {},
   "outputs": [],
   "source": [
    "error_value = []\n",
    "for i in range(len(y_valid[0])):\n",
    "    error_value.append( mean_absolute_error(y_valid[:, i], y_pred[:, i]) / y_valid[:, i])\n",
    "plt.plot(error_value, color='r', label='error_change')\n",
    "plt.legend()\n",
    "plt.show()"
   ]
  },
  {
   "cell_type": "code",
   "execution_count": null,
   "metadata": {},
   "outputs": [],
   "source": [
    "np.mean(mean_absolute_error(y_valid[:, i], y_pred[:, i]) / y_valid[:, i])"
   ]
  },
  {
   "cell_type": "code",
   "execution_count": null,
   "metadata": {},
   "outputs": [],
   "source": [
    "mean_absolute_error(y_valid[:][0], y_pred[:][0])"
   ]
  },
  {
   "cell_type": "code",
   "execution_count": null,
   "metadata": {
    "colab": {
     "base_uri": "https://localhost:8080/"
    },
    "id": "LilQzwltzpSz",
    "outputId": "0d17fadf-6fe8-48d1-c3d7-10b952a2f4aa"
   },
   "outputs": [],
   "source": [
    "# Multivariate regression ensemble with sklearn-type API\n",
    "from sklearn.metrics import mean_squared_error, make_scorer\n",
    "dsid = 'AppliancesEnergy'\n",
    "#X_train, y_train, X_valid, y_valid = get_Monash_regression_data(dsid)\n",
    "rmse_scorer = make_scorer(mean_squared_error, greater_is_better=False)\n",
    "model = MiniRocketVotingRegressor(n_estimators=5, scoring=rmse_scorer)\n",
    "timer.start(False)\n",
    "model.fit(X_train, y_train)\n",
    "t = timer.stop()\n",
    "y_pred = model.predict(X_valid)\n",
    "rmse = mean_squared_error(y_valid, y_pred, squared=False)\n",
    "print(f'valid rmse        : {rmse:.5f} time: {t}')"
   ]
  },
  {
   "cell_type": "markdown",
   "metadata": {
    "id": "4Ykl-SZ-3nPC"
   },
   "source": [
    "Git Gud"
   ]
  },
  {
   "cell_type": "code",
   "execution_count": null,
   "metadata": {
    "colab": {
     "base_uri": "https://localhost:8080/"
    },
    "id": "9fynfGNT3lvC",
    "outputId": "ac12d78c-94de-4616-c6de-c88c52f11b98"
   },
   "outputs": [],
   "source": [
    "X1, y = make_dataset_from_x(364)\n",
    "from sklearn.model_selection import train_test_split\n",
    "X_train, X_valid, y_train, y_valid = train_test_split(X1, y, test_size=0.3)\n",
    "# Univariate regression with sklearn-type API\n",
    "from sklearn.metrics import mean_squared_error, make_scorer\n",
    "rmse_scorer = make_scorer(mean_squared_error, greater_is_better=False)\n",
    "model = MiniRocketRegressor(scoring=rmse_scorer)\n",
    "timer.start(False)\n",
    "model.fit(X_train, y_train)\n",
    "t = timer.stop()\n",
    "y_pred = model.predict(X_valid)\n",
    "rmse = mean_squared_error(y_valid, y_pred, squared=False)\n",
    "print(f'valid rmse        : {rmse:.5f} time: {t}')"
   ]
  },
  {
   "cell_type": "code",
   "execution_count": null,
   "metadata": {
    "colab": {
     "base_uri": "https://localhost:8080/"
    },
    "id": "XraUaXFl44Rb",
    "outputId": "9ce068ff-6556-4173-f35b-382fad5a0d46"
   },
   "outputs": [],
   "source": [
    "X1, y = make_dataset_from_x(364)\n",
    "from sklearn.model_selection import train_test_split\n",
    "X_train, X_valid, y_train, y_valid = train_test_split(X1, y, test_size=0.3)\n",
    "# Univariate regression with sklearn-type API\n",
    "from sklearn.metrics import mean_squared_error, make_scorer, mean_absolute_error\n",
    "rmse_scorer = make_scorer(mean_absolute_error, greater_is_better=False)\n",
    "model = MiniRocketRegressor(scoring=rmse_scorer)\n",
    "timer.start(False)\n",
    "model.fit(X_train, y_train)\n",
    "t = timer.stop()\n",
    "y_pred = model.predict(X_valid)\n",
    "rmse = mean_squared_error(y_valid, y_pred, squared=False)\n",
    "rmae = mean_absolute_error(y_valid, y_pred)\n",
    "print(f'valid rmae        : {rmae:.5f} time: {t}')\n",
    "print(f'valid rmse        : {rmse:.5f} time: {t}')"
   ]
  },
  {
   "cell_type": "code",
   "execution_count": null,
   "metadata": {
    "colab": {
     "base_uri": "https://localhost:8080/"
    },
    "id": "7mQD4vaa9Jtb",
    "outputId": "94757e32-5af5-4095-dcb6-9e0362297ade"
   },
   "outputs": [],
   "source": [
    "X1, y = make_dataset_from_x(364)\n",
    "from sklearn.model_selection import train_test_split\n",
    "X_train, X_valid, y_train, y_valid = train_test_split(X1, y, test_size=0.3)\n",
    "# Univariate regression with sklearn-type API\n",
    "from sklearn.metrics import mean_squared_error, make_scorer, mean_absolute_error\n",
    "rmse_scorer = make_scorer(mean_squared_error, greater_is_better=False)\n",
    "model = MiniRocketRegressor(scoring=rmse_scorer)\n",
    "timer.start(False)\n",
    "model.fit(X_train, y_train)\n",
    "t = timer.stop()\n",
    "y_pred = model.predict(X_valid)\n",
    "rmse = mean_squared_error(y_valid, y_pred, squared=False)\n",
    "rmae = mean_absolute_error(y_valid, y_pred)\n",
    "print(f'valid rmae        : {rmae:.5f} time: {t}')\n",
    "print(f'valid rmse        : {rmse:.5f} time: {t}')"
   ]
  },
  {
   "cell_type": "code",
   "execution_count": null,
   "metadata": {
    "colab": {
     "base_uri": "https://localhost:8080/"
    },
    "id": "R1MmGt0k6D_-",
    "outputId": "bdc23beb-06c4-41cc-dc98-bae8f97da151"
   },
   "outputs": [],
   "source": [
    "# Multivariate regression ensemble with sklearn-type API\n",
    "from sklearn.metrics import mean_squared_error, make_scorer\n",
    "dsid = 'AppliancesEnergy'\n",
    "#X_train, y_train, X_valid, y_valid = get_Monash_regression_data(dsid)\n",
    "rmse_scorer = make_scorer(mean_squared_error, greater_is_better=False)\n",
    "model = MiniRocketVotingRegressor(n_estimators=5, scoring=rmse_scorer)\n",
    "timer.start(False)\n",
    "model.fit(X_train, y_train)\n",
    "t = timer.stop()\n",
    "y_pred = model.predict(X_valid)\n",
    "rmse = mean_squared_error(y_valid, y_pred, squared=False)\n",
    "rmae = mean_absolute_error(y_valid, y_pred)\n",
    "print(f'valid rmae        : {rmae:.5f} time: {t}')\n",
    "print(f'valid rmse        : {rmse:.5f} time: {t}')"
   ]
  },
  {
   "cell_type": "code",
   "execution_count": null,
   "metadata": {
    "colab": {
     "base_uri": "https://localhost:8080/"
    },
    "id": "2CPxHLNG-ORa",
    "outputId": "2f03dad0-45c5-447b-ee84-ffba7c844e6e"
   },
   "outputs": [],
   "source": [
    "# Multivariate regression ensemble with sklearn-type API\n",
    "from sklearn.metrics import mean_squared_error, make_scorer\n",
    "dsid = 'AppliancesEnergy'\n",
    "#X_train, y_train, X_valid, y_valid = get_Monash_regression_data(dsid)\n",
    "rmse_scorer = make_scorer(mean_absolute_error, greater_is_better=False)\n",
    "model = MiniRocketVotingRegressor(n_estimators=5, scoring=rmse_scorer)\n",
    "timer.start(False)\n",
    "model.fit(X_train, y_train)\n",
    "t = timer.stop()\n",
    "y_pred = model.predict(X_valid)\n",
    "rmse = mean_squared_error(y_valid, y_pred, squared=False)\n",
    "rmae = mean_absolute_error(y_valid, y_pred)\n",
    "print(f'valid rmae        : {rmae:.5f} time: {t}')\n",
    "print(f'valid rmse        : {rmse:.5f} time: {t}')"
   ]
  },
  {
   "cell_type": "code",
   "execution_count": null,
   "metadata": {
    "colab": {
     "base_uri": "https://localhost:8080/",
     "height": 1000
    },
    "id": "c53JyE0j8the",
    "outputId": "1df420ca-89a0-45aa-a98b-9b2d9f7e479a"
   },
   "outputs": [],
   "source": [
    "!pip install pycaret\n"
   ]
  }
 ],
 "metadata": {
  "colab": {
   "name": "regression_baseline_minirocket.ipynb",
   "provenance": []
  },
  "kernelspec": {
   "display_name": "Python 3 (ipykernel)",
   "language": "python",
   "name": "python3"
  },
  "language_info": {
   "codemirror_mode": {
    "name": "ipython",
    "version": 3
   },
   "file_extension": ".py",
   "mimetype": "text/x-python",
   "name": "python",
   "nbconvert_exporter": "python",
   "pygments_lexer": "ipython3",
   "version": "3.8.13"
  }
 },
 "nbformat": 4,
 "nbformat_minor": 1
}
