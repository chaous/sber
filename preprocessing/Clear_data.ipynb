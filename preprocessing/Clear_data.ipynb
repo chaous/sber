{
 "cells": [
  {
   "cell_type": "code",
   "execution_count": 5,
   "metadata": {
    "id": "zx08QD3g7pQ5"
   },
   "outputs": [],
   "source": [
    "import pandas as pd\n",
    "path_to_data = \"../data/data_2022\"\n",
    "df1 = pd.read_csv(path_to_data + \"/malayasazanka.csv\", delimiter=';')\n",
    "df2 = pd.read_csv(path_to_data + \"/svobodniy.csv\", delimiter=';')\n",
    "df3 = pd.read_csv(path_to_data + \"/blagoveshensk_zeya.csv\", delimiter=';')\n",
    "df4 = pd.read_csv(path_to_data + \"/mazanovo.csv\", delimiter=';')\n",
    "df5 = pd.read_csv(path_to_data + \"/belogorye.csv\", delimiter=';')"
   ]
  },
  {
   "cell_type": "code",
   "execution_count": 6,
   "metadata": {
    "id": "eiMxMpir72TJ"
   },
   "outputs": [],
   "source": [
    "import numpy as np"
   ]
  },
  {
   "cell_type": "code",
   "execution_count": 7,
   "metadata": {
    "id": "_GD74a9Z8Gxt"
   },
   "outputs": [],
   "source": [
    "df1.index = pd.DatetimeIndex(df1['Date'])\n",
    "df2.index = pd.DatetimeIndex(df2['Date'])\n",
    "df3.index = pd.DatetimeIndex(df3['Date'])\n",
    "df4.index = pd.DatetimeIndex(df4['Date'])\n",
    "df5.index = pd.DatetimeIndex(df5['Date'])"
   ]
  },
  {
   "cell_type": "code",
   "execution_count": 8,
   "metadata": {
    "colab": {
     "base_uri": "https://localhost:8080/"
    },
    "id": "5yAyUYZH8K7U",
    "outputId": "57946a7a-c4ca-46cb-bf5a-fd36a7cccd5e"
   },
   "outputs": [
    {
     "data": {
      "text/plain": [
       "DatetimeIndex(['2001-01-11', '2001-01-12', '2001-01-13', '2001-01-14',\n",
       "               '2001-01-15', '2001-01-16', '2001-01-17', '2001-01-18',\n",
       "               '2001-01-19', '2001-01-20',\n",
       "               ...\n",
       "               '2022-12-22', '2022-12-23', '2022-12-24', '2022-12-25',\n",
       "               '2022-12-26', '2022-12-27', '2022-12-28', '2022-12-29',\n",
       "               '2022-12-30', '2022-12-31'],\n",
       "              dtype='datetime64[ns]', length=8025, freq='D')"
      ]
     },
     "execution_count": 8,
     "metadata": {},
     "output_type": "execute_result"
    }
   ],
   "source": [
    "dt = pd.date_range('2001-01-11', '2022-12-31')\n",
    "dt"
   ]
  },
  {
   "cell_type": "code",
   "execution_count": 9,
   "metadata": {
    "id": "pv6ucoai8OAm"
   },
   "outputs": [],
   "source": [
    "df11 = df1.reindex(dt, fill_value=np.nan)\n",
    "df21 = df2.reindex(dt, fill_value=np.nan)\n",
    "df31 = df3.reindex(dt, fill_value=np.nan)\n",
    "df41 = df4.reindex(dt, fill_value=np.nan)\n",
    "df51 = df5.reindex(dt, fill_value=np.nan)"
   ]
  },
  {
   "cell_type": "code",
   "execution_count": 10,
   "metadata": {
    "id": "o0GQn2NR8VIc"
   },
   "outputs": [],
   "source": [
    "df_common = pd.concat([df11['Date'], df11['Value'], df21['Value'], df31['Value'], df41['Value'], df51['Value']], axis=1, keys=('Timestamp', 'Value-1002-zeya-malayasazanka', 'Value-1003-zeya-svobodny', 'Value-2366-zeya-blagoveshensk', 'Value-316-zeya-mazanovo', 'Value-317-zeya-belogorye'))"
   ]
  },
  {
   "cell_type": "code",
   "execution_count": 11,
   "metadata": {
    "colab": {
     "base_uri": "https://localhost:8080/",
     "height": 424
    },
    "id": "qx-_7oyO8Zoo",
    "outputId": "12935252-648d-4180-883a-451b05dc3204"
   },
   "outputs": [
    {
     "data": {
      "text/html": [
       "<div>\n",
       "<style scoped>\n",
       "    .dataframe tbody tr th:only-of-type {\n",
       "        vertical-align: middle;\n",
       "    }\n",
       "\n",
       "    .dataframe tbody tr th {\n",
       "        vertical-align: top;\n",
       "    }\n",
       "\n",
       "    .dataframe thead th {\n",
       "        text-align: right;\n",
       "    }\n",
       "</style>\n",
       "<table border=\"1\" class=\"dataframe\">\n",
       "  <thead>\n",
       "    <tr style=\"text-align: right;\">\n",
       "      <th></th>\n",
       "      <th>Timestamp</th>\n",
       "      <th>Value-1002-zeya-malayasazanka</th>\n",
       "      <th>Value-1003-zeya-svobodny</th>\n",
       "      <th>Value-2366-zeya-blagoveshensk</th>\n",
       "      <th>Value-316-zeya-mazanovo</th>\n",
       "      <th>Value-317-zeya-belogorye</th>\n",
       "    </tr>\n",
       "  </thead>\n",
       "  <tbody>\n",
       "    <tr>\n",
       "      <th>2001-01-11</th>\n",
       "      <td>2001-01-11</td>\n",
       "      <td>303.0</td>\n",
       "      <td>32.0</td>\n",
       "      <td>NaN</td>\n",
       "      <td>49.0</td>\n",
       "      <td>NaN</td>\n",
       "    </tr>\n",
       "    <tr>\n",
       "      <th>2001-01-12</th>\n",
       "      <td>NaN</td>\n",
       "      <td>NaN</td>\n",
       "      <td>NaN</td>\n",
       "      <td>NaN</td>\n",
       "      <td>NaN</td>\n",
       "      <td>NaN</td>\n",
       "    </tr>\n",
       "    <tr>\n",
       "      <th>2001-01-13</th>\n",
       "      <td>NaN</td>\n",
       "      <td>NaN</td>\n",
       "      <td>NaN</td>\n",
       "      <td>NaN</td>\n",
       "      <td>NaN</td>\n",
       "      <td>NaN</td>\n",
       "    </tr>\n",
       "    <tr>\n",
       "      <th>2001-01-14</th>\n",
       "      <td>NaN</td>\n",
       "      <td>NaN</td>\n",
       "      <td>NaN</td>\n",
       "      <td>NaN</td>\n",
       "      <td>NaN</td>\n",
       "      <td>NaN</td>\n",
       "    </tr>\n",
       "    <tr>\n",
       "      <th>2001-01-15</th>\n",
       "      <td>NaN</td>\n",
       "      <td>NaN</td>\n",
       "      <td>NaN</td>\n",
       "      <td>NaN</td>\n",
       "      <td>NaN</td>\n",
       "      <td>NaN</td>\n",
       "    </tr>\n",
       "    <tr>\n",
       "      <th>...</th>\n",
       "      <td>...</td>\n",
       "      <td>...</td>\n",
       "      <td>...</td>\n",
       "      <td>...</td>\n",
       "      <td>...</td>\n",
       "      <td>...</td>\n",
       "    </tr>\n",
       "    <tr>\n",
       "      <th>2022-12-27</th>\n",
       "      <td>NaN</td>\n",
       "      <td>NaN</td>\n",
       "      <td>NaN</td>\n",
       "      <td>NaN</td>\n",
       "      <td>NaN</td>\n",
       "      <td>NaN</td>\n",
       "    </tr>\n",
       "    <tr>\n",
       "      <th>2022-12-28</th>\n",
       "      <td>NaN</td>\n",
       "      <td>NaN</td>\n",
       "      <td>NaN</td>\n",
       "      <td>NaN</td>\n",
       "      <td>NaN</td>\n",
       "      <td>NaN</td>\n",
       "    </tr>\n",
       "    <tr>\n",
       "      <th>2022-12-29</th>\n",
       "      <td>NaN</td>\n",
       "      <td>NaN</td>\n",
       "      <td>NaN</td>\n",
       "      <td>NaN</td>\n",
       "      <td>NaN</td>\n",
       "      <td>NaN</td>\n",
       "    </tr>\n",
       "    <tr>\n",
       "      <th>2022-12-30</th>\n",
       "      <td>NaN</td>\n",
       "      <td>NaN</td>\n",
       "      <td>NaN</td>\n",
       "      <td>NaN</td>\n",
       "      <td>NaN</td>\n",
       "      <td>NaN</td>\n",
       "    </tr>\n",
       "    <tr>\n",
       "      <th>2022-12-31</th>\n",
       "      <td>NaN</td>\n",
       "      <td>NaN</td>\n",
       "      <td>NaN</td>\n",
       "      <td>NaN</td>\n",
       "      <td>NaN</td>\n",
       "      <td>NaN</td>\n",
       "    </tr>\n",
       "  </tbody>\n",
       "</table>\n",
       "<p>8025 rows × 6 columns</p>\n",
       "</div>"
      ],
      "text/plain": [
       "             Timestamp  Value-1002-zeya-malayasazanka  \\\n",
       "2001-01-11  2001-01-11                          303.0   \n",
       "2001-01-12         NaN                            NaN   \n",
       "2001-01-13         NaN                            NaN   \n",
       "2001-01-14         NaN                            NaN   \n",
       "2001-01-15         NaN                            NaN   \n",
       "...                ...                            ...   \n",
       "2022-12-27         NaN                            NaN   \n",
       "2022-12-28         NaN                            NaN   \n",
       "2022-12-29         NaN                            NaN   \n",
       "2022-12-30         NaN                            NaN   \n",
       "2022-12-31         NaN                            NaN   \n",
       "\n",
       "            Value-1003-zeya-svobodny  Value-2366-zeya-blagoveshensk  \\\n",
       "2001-01-11                      32.0                            NaN   \n",
       "2001-01-12                       NaN                            NaN   \n",
       "2001-01-13                       NaN                            NaN   \n",
       "2001-01-14                       NaN                            NaN   \n",
       "2001-01-15                       NaN                            NaN   \n",
       "...                              ...                            ...   \n",
       "2022-12-27                       NaN                            NaN   \n",
       "2022-12-28                       NaN                            NaN   \n",
       "2022-12-29                       NaN                            NaN   \n",
       "2022-12-30                       NaN                            NaN   \n",
       "2022-12-31                       NaN                            NaN   \n",
       "\n",
       "            Value-316-zeya-mazanovo  Value-317-zeya-belogorye  \n",
       "2001-01-11                     49.0                       NaN  \n",
       "2001-01-12                      NaN                       NaN  \n",
       "2001-01-13                      NaN                       NaN  \n",
       "2001-01-14                      NaN                       NaN  \n",
       "2001-01-15                      NaN                       NaN  \n",
       "...                             ...                       ...  \n",
       "2022-12-27                      NaN                       NaN  \n",
       "2022-12-28                      NaN                       NaN  \n",
       "2022-12-29                      NaN                       NaN  \n",
       "2022-12-30                      NaN                       NaN  \n",
       "2022-12-31                      NaN                       NaN  \n",
       "\n",
       "[8025 rows x 6 columns]"
      ]
     },
     "execution_count": 11,
     "metadata": {},
     "output_type": "execute_result"
    }
   ],
   "source": [
    "df_common"
   ]
  },
  {
   "cell_type": "code",
   "execution_count": 12,
   "metadata": {
    "id": "bel9WRlj8cB-"
   },
   "outputs": [
    {
     "data": {
      "text/plain": [
       "array([[303.,  32.,  nan,  49.,  nan],\n",
       "       [ nan,  nan,  nan,  nan,  nan],\n",
       "       [ nan,  nan,  nan,  nan,  nan],\n",
       "       ...,\n",
       "       [ nan,  nan,  nan,  nan,  nan],\n",
       "       [ nan,  nan,  nan,  nan,  nan],\n",
       "       [ nan,  nan,  nan,  nan,  nan]])"
      ]
     },
     "execution_count": 12,
     "metadata": {},
     "output_type": "execute_result"
    }
   ],
   "source": [
    "raw_data = df_common[df_common.keys()[1:]].to_numpy()\n",
    "raw_data"
   ]
  },
  {
   "cell_type": "code",
   "execution_count": 13,
   "metadata": {
    "id": "U0h_eZke8iiP"
   },
   "outputs": [],
   "source": [
    "year_starts = {}\n",
    "year_starts[2002] = 355\n",
    "year_starts[2003] = 355+365\n",
    "year_starts[2004] = 355+365*2\n",
    "year_starts[2005] = 355+365 * 2 + 366\n",
    "year_starts[2006] = 355+365 * 3 + 366\n",
    "year_starts[2007] = 355+365 * 4 + 366\n",
    "year_starts[2008] = 355+365 * 5 + 366\n",
    "year_starts[2009] = 355+365 * 5 + 366 * 2\n",
    "year_starts[2010] = 355+365 * 6 + 366 * 2\n",
    "year_starts[2011] = 355+365 * 7 + 366 * 2\n",
    "year_starts[2012] = 355+365 * 8 + 366 * 2\n",
    "year_starts[2013] = 355+365 * 8 + 366 * 3\n",
    "year_starts[2014] = 355+365 * 9 + 366 * 3\n",
    "year_starts[2015] = 355+365 * 10 + 366 * 3\n",
    "year_starts[2016] = 355+365 * 11 + 366 * 3\n",
    "year_starts[2017] = 355+365 * 11 + 366 * 4\n",
    "year_starts[2018] = 355+365 * 12 + 366 * 4\n",
    "year_starts[2019] = 355+365 * 13 + 366 * 4\n",
    "year_starts[2020] = 355+365 * 14 + 366 * 4\n",
    "year_starts[2021] = 355+365 * 14 + 366 * 5\n",
    "year_starts[2022] = 355+365 * 15 + 366 * 5\n",
    "year_starts[2023] = 7685"
   ]
  },
  {
   "cell_type": "code",
   "execution_count": 14,
   "metadata": {
    "id": "OgkWidGV8eiz"
   },
   "outputs": [],
   "source": [
    "data2 = []\n",
    "for year in range(2008, 2023):\n",
    "    for day in range(31 + 28):\n",
    "        data2.append([])\n",
    "        for column_name in range(5):\n",
    "            if np.isnan(raw_data[year_starts[year] + day][column_name]):\n",
    "                sum_for_mean = 0\n",
    "                count_for_mean = 0\n",
    "                for year2 in range(2008, 2023):\n",
    "                    if not np.isnan(raw_data[year_starts[year2] + day][column_name]):\n",
    "                        sum_for_mean += raw_data[year_starts[year2] + day][column_name]\n",
    "                        count_for_mean += 1\n",
    "                if count_for_mean > 0:\n",
    "                    data2[-1].append(np.round(sum_for_mean / count_for_mean))\n",
    "                else:\n",
    "                    data2[-1].append(np.nan)\n",
    "            else:\n",
    "                data2[-1].append(raw_data[year_starts[year] + day][column_name])\n",
    "    if year %4 == 0:\n",
    "        data2.append([])\n",
    "        for column_name in range(5):\n",
    "            if np.isnan(raw_data[year_starts[year] + 31 + 28][column_name]):\n",
    "                sum_for_mean = 0\n",
    "                count_for_mean = 0\n",
    "                for year2 in range(2008, 2023, 4):\n",
    "                    if not np.isnan(raw_data[year_starts[year2] + day][column_name]):\n",
    "                        sum_for_mean += raw_data[year_starts[year2] + day][column_name]\n",
    "                        count_for_mean += 1\n",
    "                if count_for_mean > 0:\n",
    "                    data2[-1].append(np.round(sum_for_mean / count_for_mean))\n",
    "                else:\n",
    "                    data2[-1].append(np.nan)\n",
    "            else:\n",
    "                data2[-1].append(raw_data[year_starts[year] + 31 + 28][column_name])\n",
    "    for day in range((365 - 58 - 1), 0, -1):\n",
    "        data2.append([])\n",
    "        for column_name in range(5):\n",
    "            if np.isnan(raw_data[year_starts[year + 1] - day][column_name]):\n",
    "                sum_for_mean = 0\n",
    "                count_for_mean = 0\n",
    "                for year2 in range(2008, 2023):\n",
    "                    if not np.isnan(raw_data[year_starts[year2 + 1] - day][column_name]):\n",
    "                        sum_for_mean += raw_data[year_starts[year2 + 1] - day][column_name]\n",
    "                        count_for_mean += 1\n",
    "                if count_for_mean > 0:\n",
    "                    data2[-1].append(np.round(sum_for_mean / count_for_mean))\n",
    "                else:\n",
    "                    data2[-1].append(np.nan)\n",
    "            else:\n",
    "                data2[-1].append(raw_data[year_starts[year + 1] - day][column_name])"
   ]
  },
  {
   "cell_type": "code",
   "execution_count": 15,
   "metadata": {
    "colab": {
     "base_uri": "https://localhost:8080/"
    },
    "id": "u_CwZkk-8m-T",
    "outputId": "f434bc61-f1da-427d-ef7c-ee956f98d10d"
   },
   "outputs": [
    {
     "data": {
      "text/plain": [
       "(5479, 5)"
      ]
     },
     "execution_count": 15,
     "metadata": {},
     "output_type": "execute_result"
    }
   ],
   "source": [
    "data3 = np.array(data2)\n",
    "data3.shape\n"
   ]
  },
  {
   "cell_type": "code",
   "execution_count": 19,
   "metadata": {
    "colab": {
     "base_uri": "https://localhost:8080/",
     "height": 424
    },
    "id": "wSlCQRJ580yv",
    "outputId": "572eb072-6dd6-4c36-e998-bdb9924837bb"
   },
   "outputs": [
    {
     "data": {
      "text/html": [
       "<div>\n",
       "<style scoped>\n",
       "    .dataframe tbody tr th:only-of-type {\n",
       "        vertical-align: middle;\n",
       "    }\n",
       "\n",
       "    .dataframe tbody tr th {\n",
       "        vertical-align: top;\n",
       "    }\n",
       "\n",
       "    .dataframe thead th {\n",
       "        text-align: right;\n",
       "    }\n",
       "</style>\n",
       "<table border=\"1\" class=\"dataframe\">\n",
       "  <thead>\n",
       "    <tr style=\"text-align: right;\">\n",
       "      <th></th>\n",
       "      <th>zeya-malayasazanka</th>\n",
       "      <th>zeya-svobodny</th>\n",
       "      <th>zeya-blagoveshensk</th>\n",
       "      <th>zeya-mazanovo</th>\n",
       "      <th>zeya-belogorye</th>\n",
       "    </tr>\n",
       "  </thead>\n",
       "  <tbody>\n",
       "    <tr>\n",
       "      <th>2008-01-01</th>\n",
       "      <td>435.0</td>\n",
       "      <td>163.0</td>\n",
       "      <td>148.0</td>\n",
       "      <td>218.0</td>\n",
       "      <td>341.0</td>\n",
       "    </tr>\n",
       "    <tr>\n",
       "      <th>2008-01-02</th>\n",
       "      <td>441.0</td>\n",
       "      <td>162.0</td>\n",
       "      <td>151.0</td>\n",
       "      <td>222.0</td>\n",
       "      <td>350.0</td>\n",
       "    </tr>\n",
       "    <tr>\n",
       "      <th>2008-01-03</th>\n",
       "      <td>447.0</td>\n",
       "      <td>161.0</td>\n",
       "      <td>157.0</td>\n",
       "      <td>226.0</td>\n",
       "      <td>361.0</td>\n",
       "    </tr>\n",
       "    <tr>\n",
       "      <th>2008-01-04</th>\n",
       "      <td>447.0</td>\n",
       "      <td>154.0</td>\n",
       "      <td>163.0</td>\n",
       "      <td>230.0</td>\n",
       "      <td>367.0</td>\n",
       "    </tr>\n",
       "    <tr>\n",
       "      <th>2008-01-05</th>\n",
       "      <td>443.0</td>\n",
       "      <td>144.0</td>\n",
       "      <td>168.0</td>\n",
       "      <td>222.0</td>\n",
       "      <td>364.0</td>\n",
       "    </tr>\n",
       "    <tr>\n",
       "      <th>...</th>\n",
       "      <td>...</td>\n",
       "      <td>...</td>\n",
       "      <td>...</td>\n",
       "      <td>...</td>\n",
       "      <td>...</td>\n",
       "    </tr>\n",
       "    <tr>\n",
       "      <th>2022-12-27</th>\n",
       "      <td>434.0</td>\n",
       "      <td>167.0</td>\n",
       "      <td>134.0</td>\n",
       "      <td>235.0</td>\n",
       "      <td>343.0</td>\n",
       "    </tr>\n",
       "    <tr>\n",
       "      <th>2022-12-28</th>\n",
       "      <td>435.0</td>\n",
       "      <td>169.0</td>\n",
       "      <td>134.0</td>\n",
       "      <td>235.0</td>\n",
       "      <td>343.0</td>\n",
       "    </tr>\n",
       "    <tr>\n",
       "      <th>2022-12-29</th>\n",
       "      <td>438.0</td>\n",
       "      <td>171.0</td>\n",
       "      <td>132.0</td>\n",
       "      <td>232.0</td>\n",
       "      <td>342.0</td>\n",
       "    </tr>\n",
       "    <tr>\n",
       "      <th>2022-12-30</th>\n",
       "      <td>437.0</td>\n",
       "      <td>170.0</td>\n",
       "      <td>132.0</td>\n",
       "      <td>230.0</td>\n",
       "      <td>344.0</td>\n",
       "    </tr>\n",
       "    <tr>\n",
       "      <th>2022-12-31</th>\n",
       "      <td>437.0</td>\n",
       "      <td>206.0</td>\n",
       "      <td>131.0</td>\n",
       "      <td>287.0</td>\n",
       "      <td>342.0</td>\n",
       "    </tr>\n",
       "  </tbody>\n",
       "</table>\n",
       "<p>5479 rows × 5 columns</p>\n",
       "</div>"
      ],
      "text/plain": [
       "            zeya-malayasazanka  zeya-svobodny  zeya-blagoveshensk  \\\n",
       "2008-01-01               435.0          163.0               148.0   \n",
       "2008-01-02               441.0          162.0               151.0   \n",
       "2008-01-03               447.0          161.0               157.0   \n",
       "2008-01-04               447.0          154.0               163.0   \n",
       "2008-01-05               443.0          144.0               168.0   \n",
       "...                        ...            ...                 ...   \n",
       "2022-12-27               434.0          167.0               134.0   \n",
       "2022-12-28               435.0          169.0               134.0   \n",
       "2022-12-29               438.0          171.0               132.0   \n",
       "2022-12-30               437.0          170.0               132.0   \n",
       "2022-12-31               437.0          206.0               131.0   \n",
       "\n",
       "            zeya-mazanovo  zeya-belogorye  \n",
       "2008-01-01          218.0           341.0  \n",
       "2008-01-02          222.0           350.0  \n",
       "2008-01-03          226.0           361.0  \n",
       "2008-01-04          230.0           367.0  \n",
       "2008-01-05          222.0           364.0  \n",
       "...                   ...             ...  \n",
       "2022-12-27          235.0           343.0  \n",
       "2022-12-28          235.0           343.0  \n",
       "2022-12-29          232.0           342.0  \n",
       "2022-12-30          230.0           344.0  \n",
       "2022-12-31          287.0           342.0  \n",
       "\n",
       "[5479 rows x 5 columns]"
      ]
     },
     "execution_count": 19,
     "metadata": {},
     "output_type": "execute_result"
    }
   ],
   "source": [
    "df_new_better = pd.DataFrame(data3, columns=('zeya-malayasazanka', 'zeya-svobodny', 'zeya-blagoveshensk', 'zeya-mazanovo', 'zeya-belogorye'), index=pd.date_range('2008-01-01', '2022-12-31'))\n",
    "df_new_better"
   ]
  },
  {
   "cell_type": "code",
   "execution_count": 20,
   "metadata": {
    "id": "taZl7cf5811R"
   },
   "outputs": [],
   "source": [
    "df_new_better.to_csv(path_to_data+'/only_zeya_fixed_actual_data.csv')"
   ]
  },
  {
   "cell_type": "code",
   "execution_count": 21,
   "metadata": {},
   "outputs": [],
   "source": [
    "df_new_better2 = df_new_better.loc['2008-01-01':'2022-05-25', :]\n",
    "df_new_better2\n",
    "df_new_better2.to_csv(path_to_data+'/only_zeya_fixed_actual_data.csv')"
   ]
  }
 ],
 "metadata": {
  "colab": {
   "collapsed_sections": [],
   "name": "Clear_data.ipynb",
   "provenance": []
  },
  "kernelspec": {
   "display_name": "Python 3 (ipykernel)",
   "language": "python",
   "name": "python3"
  },
  "language_info": {
   "codemirror_mode": {
    "name": "ipython",
    "version": 3
   },
   "file_extension": ".py",
   "mimetype": "text/x-python",
   "name": "python",
   "nbconvert_exporter": "python",
   "pygments_lexer": "ipython3",
   "version": "3.8.13"
  }
 },
 "nbformat": 4,
 "nbformat_minor": 1
}
