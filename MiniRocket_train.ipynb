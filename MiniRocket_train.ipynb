{
 "cells": [
  {
   "cell_type": "code",
   "execution_count": 1,
   "id": "d1443ff1",
   "metadata": {},
   "outputs": [
    {
     "name": "stdout",
     "output_type": "stream",
     "text": [
      "os             : Linux-5.10.16.3-microsoft-standard-WSL2-x86_64-with-glibc2.17\n",
      "python         : 3.8.12\n",
      "tsai           : 0.3.1\n",
      "fastai         : 2.6.3\n",
      "fastcore       : 1.4.4\n",
      "sktime         : 0.10.1\n",
      "sklearn        : 1.0.2\n",
      "torch          : 1.11.0\n",
      "device         : cpu\n",
      "cpu cores      : 16\n",
      "RAM            : 24.88 GB\n",
      "GPU memory     : N/A\n"
     ]
    }
   ],
   "source": [
    "from tsai.basics import *\n",
    "import sktime\n",
    "import sklearn\n",
    "\n",
    "from sklearn.model_selection import train_test_split\n",
    "from sklearn.utils import shuffle\n",
    "from sklearn.metrics import mean_squared_error, mean_absolute_error, make_scorer\n",
    "my_setup(sktime, sklearn)"
   ]
  },
  {
   "cell_type": "code",
   "execution_count": 2,
   "id": "c3c6a2ee",
   "metadata": {},
   "outputs": [],
   "source": [
    "from fastcore.test import test_eq\n",
    "from fastcore.basics import first\n",
    "from fastai.data.external import untar_data, URLs\n",
    "from fastai.tabular.data import TabularDataLoaders\n",
    "from fastai.tabular.core import Categorify, FillMissing\n",
    "from fastai.data.transforms import Normalize\n",
    "import pandas as pd"
   ]
  },
  {
   "cell_type": "code",
   "execution_count": 3,
   "id": "9ea8fbdd",
   "metadata": {},
   "outputs": [],
   "source": [
    "from tsai.all import *"
   ]
  },
  {
   "cell_type": "code",
   "execution_count": 4,
   "id": "cca351f8",
   "metadata": {},
   "outputs": [],
   "source": [
    "df = pd.read_csv('dataset_with_rain_and_atm(1).csv')"
   ]
  },
  {
   "cell_type": "code",
   "execution_count": 5,
   "id": "b31e1c07",
   "metadata": {},
   "outputs": [
    {
     "data": {
      "text/html": [
       "<div>\n",
       "<style scoped>\n",
       "    .dataframe tbody tr th:only-of-type {\n",
       "        vertical-align: middle;\n",
       "    }\n",
       "\n",
       "    .dataframe tbody tr th {\n",
       "        vertical-align: top;\n",
       "    }\n",
       "\n",
       "    .dataframe thead th {\n",
       "        text-align: right;\n",
       "    }\n",
       "</style>\n",
       "<table border=\"1\" class=\"dataframe\">\n",
       "  <thead>\n",
       "    <tr style=\"text-align: right;\">\n",
       "      <th></th>\n",
       "      <th>Timestamp</th>\n",
       "      <th>Value-1002-zeya-malayasazanka</th>\n",
       "      <th>Value-1003-zeya-svobodny</th>\n",
       "      <th>Value-2366-zeya-blagoveshensk</th>\n",
       "      <th>Value-316-zeya-mazanovo</th>\n",
       "      <th>Value-317-zeya-belogorye</th>\n",
       "      <th>snow_high</th>\n",
       "      <th>snow_level</th>\n",
       "      <th>snow_Q1</th>\n",
       "      <th>1.2</th>\n",
       "      <th>1.3</th>\n",
       "      <th>0.1</th>\n",
       "      <th>4</th>\n",
       "      <th>9</th>\n",
       "      <th>8</th>\n",
       "      <th>20</th>\n",
       "      <th>1.4</th>\n",
       "      <th>41</th>\n",
       "      <th>0.3</th>\n",
       "      <th>21.00</th>\n",
       "    </tr>\n",
       "  </thead>\n",
       "  <tbody>\n",
       "    <tr>\n",
       "      <th>0</th>\n",
       "      <td>2008-01-01</td>\n",
       "      <td>435</td>\n",
       "      <td>163</td>\n",
       "      <td>148</td>\n",
       "      <td>218</td>\n",
       "      <td>341</td>\n",
       "      <td>4.0</td>\n",
       "      <td>10.0</td>\n",
       "      <td>0.0</td>\n",
       "      <td>1.0</td>\n",
       "      <td>1.0</td>\n",
       "      <td>12.0</td>\n",
       "      <td>8.0</td>\n",
       "      <td>21.0</td>\n",
       "      <td>8.0</td>\n",
       "      <td>20.0</td>\n",
       "      <td>1.0</td>\n",
       "      <td>11.0</td>\n",
       "      <td>0.0</td>\n",
       "      <td>11.2</td>\n",
       "    </tr>\n",
       "    <tr>\n",
       "      <th>1</th>\n",
       "      <td>2008-01-02</td>\n",
       "      <td>441</td>\n",
       "      <td>162</td>\n",
       "      <td>151</td>\n",
       "      <td>222</td>\n",
       "      <td>350</td>\n",
       "      <td>4.0</td>\n",
       "      <td>10.0</td>\n",
       "      <td>0.0</td>\n",
       "      <td>1.0</td>\n",
       "      <td>2.0</td>\n",
       "      <td>15.0</td>\n",
       "      <td>1.0</td>\n",
       "      <td>0.0</td>\n",
       "      <td>8.0</td>\n",
       "      <td>20.0</td>\n",
       "      <td>1.0</td>\n",
       "      <td>11.0</td>\n",
       "      <td>0.0</td>\n",
       "      <td>12.0</td>\n",
       "    </tr>\n",
       "    <tr>\n",
       "      <th>2</th>\n",
       "      <td>2008-01-03</td>\n",
       "      <td>447</td>\n",
       "      <td>161</td>\n",
       "      <td>157</td>\n",
       "      <td>226</td>\n",
       "      <td>361</td>\n",
       "      <td>4.0</td>\n",
       "      <td>10.0</td>\n",
       "      <td>0.0</td>\n",
       "      <td>1.0</td>\n",
       "      <td>3.0</td>\n",
       "      <td>15.0</td>\n",
       "      <td>1.0</td>\n",
       "      <td>0.0</td>\n",
       "      <td>8.0</td>\n",
       "      <td>20.0</td>\n",
       "      <td>1.0</td>\n",
       "      <td>11.0</td>\n",
       "      <td>0.0</td>\n",
       "      <td>12.0</td>\n",
       "    </tr>\n",
       "    <tr>\n",
       "      <th>3</th>\n",
       "      <td>2008-01-04</td>\n",
       "      <td>447</td>\n",
       "      <td>154</td>\n",
       "      <td>163</td>\n",
       "      <td>230</td>\n",
       "      <td>367</td>\n",
       "      <td>4.0</td>\n",
       "      <td>10.0</td>\n",
       "      <td>0.0</td>\n",
       "      <td>1.0</td>\n",
       "      <td>4.0</td>\n",
       "      <td>0.0</td>\n",
       "      <td>4.0</td>\n",
       "      <td>9.0</td>\n",
       "      <td>8.0</td>\n",
       "      <td>20.0</td>\n",
       "      <td>1.0</td>\n",
       "      <td>11.0</td>\n",
       "      <td>0.0</td>\n",
       "      <td>22.3</td>\n",
       "    </tr>\n",
       "    <tr>\n",
       "      <th>4</th>\n",
       "      <td>2008-01-05</td>\n",
       "      <td>443</td>\n",
       "      <td>144</td>\n",
       "      <td>168</td>\n",
       "      <td>222</td>\n",
       "      <td>364</td>\n",
       "      <td>4.0</td>\n",
       "      <td>10.0</td>\n",
       "      <td>0.0</td>\n",
       "      <td>1.0</td>\n",
       "      <td>5.0</td>\n",
       "      <td>15.0</td>\n",
       "      <td>1.0</td>\n",
       "      <td>0.0</td>\n",
       "      <td>8.0</td>\n",
       "      <td>20.0</td>\n",
       "      <td>1.0</td>\n",
       "      <td>11.0</td>\n",
       "      <td>0.0</td>\n",
       "      <td>14.2</td>\n",
       "    </tr>\n",
       "    <tr>\n",
       "      <th>...</th>\n",
       "      <td>...</td>\n",
       "      <td>...</td>\n",
       "      <td>...</td>\n",
       "      <td>...</td>\n",
       "      <td>...</td>\n",
       "      <td>...</td>\n",
       "      <td>...</td>\n",
       "      <td>...</td>\n",
       "      <td>...</td>\n",
       "      <td>...</td>\n",
       "      <td>...</td>\n",
       "      <td>...</td>\n",
       "      <td>...</td>\n",
       "      <td>...</td>\n",
       "      <td>...</td>\n",
       "      <td>...</td>\n",
       "      <td>...</td>\n",
       "      <td>...</td>\n",
       "      <td>...</td>\n",
       "      <td>...</td>\n",
       "    </tr>\n",
       "    <tr>\n",
       "      <th>4744</th>\n",
       "      <td>2020-12-27</td>\n",
       "      <td>434</td>\n",
       "      <td>167</td>\n",
       "      <td>134</td>\n",
       "      <td>235</td>\n",
       "      <td>343</td>\n",
       "      <td>5.0</td>\n",
       "      <td>10.0</td>\n",
       "      <td>0.0</td>\n",
       "      <td>12.0</td>\n",
       "      <td>27.0</td>\n",
       "      <td>15.0</td>\n",
       "      <td>1.0</td>\n",
       "      <td>0.0</td>\n",
       "      <td>8.0</td>\n",
       "      <td>20.0</td>\n",
       "      <td>1.0</td>\n",
       "      <td>11.0</td>\n",
       "      <td>0.0</td>\n",
       "      <td>12.4</td>\n",
       "    </tr>\n",
       "    <tr>\n",
       "      <th>4745</th>\n",
       "      <td>2020-12-28</td>\n",
       "      <td>435</td>\n",
       "      <td>169</td>\n",
       "      <td>134</td>\n",
       "      <td>235</td>\n",
       "      <td>343</td>\n",
       "      <td>5.0</td>\n",
       "      <td>10.0</td>\n",
       "      <td>0.0</td>\n",
       "      <td>12.0</td>\n",
       "      <td>28.0</td>\n",
       "      <td>15.0</td>\n",
       "      <td>1.0</td>\n",
       "      <td>0.0</td>\n",
       "      <td>8.0</td>\n",
       "      <td>20.0</td>\n",
       "      <td>1.0</td>\n",
       "      <td>11.0</td>\n",
       "      <td>0.0</td>\n",
       "      <td>12.0</td>\n",
       "    </tr>\n",
       "    <tr>\n",
       "      <th>4746</th>\n",
       "      <td>2020-12-29</td>\n",
       "      <td>438</td>\n",
       "      <td>171</td>\n",
       "      <td>132</td>\n",
       "      <td>232</td>\n",
       "      <td>342</td>\n",
       "      <td>5.0</td>\n",
       "      <td>10.0</td>\n",
       "      <td>0.0</td>\n",
       "      <td>12.0</td>\n",
       "      <td>27.0</td>\n",
       "      <td>15.0</td>\n",
       "      <td>1.0</td>\n",
       "      <td>0.0</td>\n",
       "      <td>8.0</td>\n",
       "      <td>20.0</td>\n",
       "      <td>1.0</td>\n",
       "      <td>11.0</td>\n",
       "      <td>0.0</td>\n",
       "      <td>12.4</td>\n",
       "    </tr>\n",
       "    <tr>\n",
       "      <th>4747</th>\n",
       "      <td>2020-12-30</td>\n",
       "      <td>437</td>\n",
       "      <td>137</td>\n",
       "      <td>132</td>\n",
       "      <td>237</td>\n",
       "      <td>366</td>\n",
       "      <td>5.0</td>\n",
       "      <td>10.0</td>\n",
       "      <td>0.0</td>\n",
       "      <td>12.0</td>\n",
       "      <td>27.0</td>\n",
       "      <td>15.0</td>\n",
       "      <td>1.0</td>\n",
       "      <td>0.0</td>\n",
       "      <td>8.0</td>\n",
       "      <td>20.0</td>\n",
       "      <td>1.0</td>\n",
       "      <td>11.0</td>\n",
       "      <td>0.0</td>\n",
       "      <td>12.4</td>\n",
       "    </tr>\n",
       "    <tr>\n",
       "      <th>4748</th>\n",
       "      <td>2020-12-31</td>\n",
       "      <td>437</td>\n",
       "      <td>134</td>\n",
       "      <td>131</td>\n",
       "      <td>237</td>\n",
       "      <td>342</td>\n",
       "      <td>4.0</td>\n",
       "      <td>10.0</td>\n",
       "      <td>0.0</td>\n",
       "      <td>12.0</td>\n",
       "      <td>27.0</td>\n",
       "      <td>15.0</td>\n",
       "      <td>1.0</td>\n",
       "      <td>0.0</td>\n",
       "      <td>8.0</td>\n",
       "      <td>20.0</td>\n",
       "      <td>1.0</td>\n",
       "      <td>11.0</td>\n",
       "      <td>0.0</td>\n",
       "      <td>12.4</td>\n",
       "    </tr>\n",
       "  </tbody>\n",
       "</table>\n",
       "<p>4749 rows × 20 columns</p>\n",
       "</div>"
      ],
      "text/plain": [
       "       Timestamp  Value-1002-zeya-malayasazanka  Value-1003-zeya-svobodny  \\\n",
       "0     2008-01-01                            435                       163   \n",
       "1     2008-01-02                            441                       162   \n",
       "2     2008-01-03                            447                       161   \n",
       "3     2008-01-04                            447                       154   \n",
       "4     2008-01-05                            443                       144   \n",
       "...          ...                            ...                       ...   \n",
       "4744  2020-12-27                            434                       167   \n",
       "4745  2020-12-28                            435                       169   \n",
       "4746  2020-12-29                            438                       171   \n",
       "4747  2020-12-30                            437                       137   \n",
       "4748  2020-12-31                            437                       134   \n",
       "\n",
       "      Value-2366-zeya-blagoveshensk  Value-316-zeya-mazanovo  \\\n",
       "0                               148                      218   \n",
       "1                               151                      222   \n",
       "2                               157                      226   \n",
       "3                               163                      230   \n",
       "4                               168                      222   \n",
       "...                             ...                      ...   \n",
       "4744                            134                      235   \n",
       "4745                            134                      235   \n",
       "4746                            132                      232   \n",
       "4747                            132                      237   \n",
       "4748                            131                      237   \n",
       "\n",
       "      Value-317-zeya-belogorye  snow_high  snow_level  snow_Q1   1.2   1.3  \\\n",
       "0                          341        4.0        10.0      0.0   1.0   1.0   \n",
       "1                          350        4.0        10.0      0.0   1.0   2.0   \n",
       "2                          361        4.0        10.0      0.0   1.0   3.0   \n",
       "3                          367        4.0        10.0      0.0   1.0   4.0   \n",
       "4                          364        4.0        10.0      0.0   1.0   5.0   \n",
       "...                        ...        ...         ...      ...   ...   ...   \n",
       "4744                       343        5.0        10.0      0.0  12.0  27.0   \n",
       "4745                       343        5.0        10.0      0.0  12.0  28.0   \n",
       "4746                       342        5.0        10.0      0.0  12.0  27.0   \n",
       "4747                       366        5.0        10.0      0.0  12.0  27.0   \n",
       "4748                       342        4.0        10.0      0.0  12.0  27.0   \n",
       "\n",
       "       0.1    4     9    8    20  1.4    41  0.3  21.00  \n",
       "0     12.0  8.0  21.0  8.0  20.0  1.0  11.0  0.0   11.2  \n",
       "1     15.0  1.0   0.0  8.0  20.0  1.0  11.0  0.0   12.0  \n",
       "2     15.0  1.0   0.0  8.0  20.0  1.0  11.0  0.0   12.0  \n",
       "3      0.0  4.0   9.0  8.0  20.0  1.0  11.0  0.0   22.3  \n",
       "4     15.0  1.0   0.0  8.0  20.0  1.0  11.0  0.0   14.2  \n",
       "...    ...  ...   ...  ...   ...  ...   ...  ...    ...  \n",
       "4744  15.0  1.0   0.0  8.0  20.0  1.0  11.0  0.0   12.4  \n",
       "4745  15.0  1.0   0.0  8.0  20.0  1.0  11.0  0.0   12.0  \n",
       "4746  15.0  1.0   0.0  8.0  20.0  1.0  11.0  0.0   12.4  \n",
       "4747  15.0  1.0   0.0  8.0  20.0  1.0  11.0  0.0   12.4  \n",
       "4748  15.0  1.0   0.0  8.0  20.0  1.0  11.0  0.0   12.4  \n",
       "\n",
       "[4749 rows x 20 columns]"
      ]
     },
     "execution_count": 5,
     "metadata": {},
     "output_type": "execute_result"
    }
   ],
   "source": [
    "df"
   ]
  },
  {
   "cell_type": "code",
   "execution_count": 6,
   "id": "1fea47f4",
   "metadata": {},
   "outputs": [
    {
     "data": {
      "text/plain": [
       "(4375, 10)"
      ]
     },
     "execution_count": 6,
     "metadata": {},
     "output_type": "execute_result"
    }
   ],
   "source": [
    "# X - Признаки(данные без благовещенска)\n",
    "# y - Предикт (Только Благовещенск), т.к. предсказываем для благовещенска\n",
    "def create_multiple_dataset(df, num_days=365, days_forward=1):\n",
    "    number_of_frames = df[df.keys()[1:]].to_numpy().shape[1]\n",
    "    X = df[df.keys()[1:]].to_numpy().reshape(-1, number_of_frames, 1)\n",
    "    array_for_concat = []\n",
    "    for i in range(num_days):\n",
    "        array_for_concat.append(X[i:X.shape[0]-(num_days - i)-days_forward+1])\n",
    "    new_X = np.concatenate(array_for_concat, axis=-1)\n",
    "    y = df['Value-2366-zeya-blagoveshensk'].to_numpy().reshape(-1, 1)\n",
    "    array_for_concat = []\n",
    "    for i in range(days_forward):\n",
    "        array_for_concat.append(y[num_days+i:y.shape[0] - (days_forward - i - 1)])\n",
    "    new_y = np.concatenate(array_for_concat, axis=-1)\n",
    "    \n",
    "    return new_X, new_y\n",
    "\n",
    "x_zavtra = 0\n",
    "\n",
    "def help_function(df, num_days=365, days_forward=1):\n",
    "    global x_zavtra\n",
    "    number_of_frames = df[df.keys()[1:]].to_numpy().shape[1]\n",
    "    X = df[df.keys()[1:]].to_numpy().reshape(-1, number_of_frames, 1)\n",
    "    array_for_concat = []\n",
    "    for i in range(num_days):\n",
    "        array_for_concat.append(X[i:X.shape[0]-(num_days - i)-days_forward+2])\n",
    "    new_X = np.concatenate(array_for_concat, axis=-1)\n",
    "    x_zavtra = new_X[-1:]\n",
    "    new_X = new_X[:-1]\n",
    "    #y = df['Value-2366-zeya-blagoveshensk'].to_numpy().reshape(-1, 1)\n",
    "    '''array_for_concat = []\n",
    "    for i in range(days_forward):\n",
    "        array_for_concat.append(y[num_days+i:y.shape[0] - (days_forward - i - 1)])\n",
    "    new_y = np.concatenate(array_for_concat, axis=-1)'''\n",
    "    \n",
    "    return new_X\n",
    "\n",
    "\n",
    "def create_data_set_without_blagoveshensk(df, num_days=365, days_forward=1):\n",
    "    X, y = create_multiple_dataset(df, num_days,  days_forward)\n",
    "    X = help_function(df, num_days, days_forward)\n",
    "    return X, y\n",
    "\n",
    "#df_without_blagoveshensk = df[['zeya-malayasazanka', 'zeya-svobodny', 'zeya-mazanovo', 'zeya-belogorye']]\n",
    "#df_only_blagoveshensk = df[['zeya-blagoveshensk']]\n",
    "X, y = create_data_set_without_blagoveshensk(df, days_forward=10)\n",
    "y.shape"
   ]
  },
  {
   "cell_type": "code",
   "execution_count": 7,
   "id": "9eb5375d",
   "metadata": {},
   "outputs": [
    {
     "data": {
      "text/plain": [
       "(4365, 19, 365)"
      ]
     },
     "execution_count": 7,
     "metadata": {},
     "output_type": "execute_result"
    }
   ],
   "source": [
    "X_train, X_valid, y_train, y_valid = train_test_split(X, y, test_size=10, shuffle=False)\n",
    "X_train.shape"
   ]
  },
  {
   "cell_type": "code",
   "execution_count": 26,
   "id": "08bf7a81",
   "metadata": {},
   "outputs": [
    {
     "name": "stdout",
     "output_type": "stream",
     "text": [
      "valid rmse        : 34.28877\n",
      "valid mae        : 30.52947\n"
     ]
    }
   ],
   "source": [
    "# Univariate regression with sklearn-type API\n",
    "\n",
    "X_train, y_train = shuffle(X_train, y_train)\n",
    "\n",
    "rmse_scorer = make_scorer(mean_squared_error, greater_is_better=False)\n",
    "model = MiniRocketRegressor(scoring=rmse_scorer)\n",
    "#print(model)\n",
    "timer.start(False)\n",
    "model.fit(X_train, y_train)\n",
    "t = timer.stop()\n",
    "y_pred = model.predict(X_valid)\n",
    "rmse = mean_squared_error(y_valid, y_pred, squared=False)\n",
    "mae = mean_absolute_error(y_valid, y_pred)\n",
    "print(f'valid rmse        : {rmse:.5f}')\n",
    "print(f'valid mae        : {mae:.5f}')"
   ]
  },
  {
   "cell_type": "code",
   "execution_count": 29,
   "id": "76792b31",
   "metadata": {},
   "outputs": [],
   "source": [
    "\n",
    "model.save('MiniRocket')"
   ]
  },
  {
   "cell_type": "code",
   "execution_count": 9,
   "id": "8bfec96e",
   "metadata": {},
   "outputs": [],
   "source": [
    "model = load_minirocket('MiniRocket')"
   ]
  },
  {
   "cell_type": "code",
   "execution_count": 27,
   "id": "da147e5c",
   "metadata": {},
   "outputs": [],
   "source": [
    "y_predict = model.predict(X)\n",
    "y_valid_predict = y_predict[-10:]"
   ]
  },
  {
   "cell_type": "code",
   "execution_count": 29,
   "id": "3c884149",
   "metadata": {},
   "outputs": [],
   "source": [
    "import matplotlib.pyplot as plt"
   ]
  },
  {
   "cell_type": "code",
   "execution_count": 30,
   "id": "ccbdc5c7",
   "metadata": {},
   "outputs": [],
   "source": [
    "y_valid = y[-10:]"
   ]
  },
  {
   "cell_type": "code",
   "execution_count": 31,
   "id": "b0c65119",
   "metadata": {},
   "outputs": [
    {
     "name": "stdout",
     "output_type": "stream",
     "text": [
      "valid rmse        : 34.28877\n",
      "valid mae        : 30.52947\n"
     ]
    }
   ],
   "source": [
    "\n",
    "rmse = mean_squared_error(y_valid, y_valid_predict, squared=False)\n",
    "mae = mean_absolute_error(y_valid, y_valid_predict)\n",
    "\n",
    "print(f'valid rmse        : {rmse:.5f}')\n",
    "print(f'valid mae        : {mae:.5f}')"
   ]
  },
  {
   "cell_type": "code",
   "execution_count": 32,
   "id": "5d3f3a2b",
   "metadata": {},
   "outputs": [
    {
     "data": {
      "image/png": "[encoded data removed]",
      "text/plain": [
       "<Figure size 432x288 with 1 Axes>"
      ]
     },
     "metadata": {
      "needs_background": "light"
     },
     "output_type": "display_data"
    }
   ],
   "source": [
    "x = list(range(0, len(y_valid_predict)))\n",
    "np.reshape(x, (len(x), 1))\n",
    "plt.plot(x, y_valid_predict, 'r')\n",
    "plt.plot(x, y_valid, 'g')\n",
    "plt.show()"
   ]
  },
  {
   "cell_type": "code",
   "execution_count": 33,
   "id": "a42c2f83",
   "metadata": {
    "scrolled": true
   },
   "outputs": [
    {
     "ename": "ValueError",
     "evalue": "x and y must have same first dimension, but have shapes (10,) and (100,)",
     "output_type": "error",
     "traceback": [
      "\u001b[0;31m---------------------------------------------------------------------------\u001b[0m",
      "\u001b[0;31mValueError\u001b[0m                                Traceback (most recent call last)",
      "\u001b[0;32m/tmp/ipykernel_12/1794659157.py\u001b[0m in \u001b[0;36m<module>\u001b[0;34m\u001b[0m\n\u001b[1;32m      2\u001b[0m \u001b[0mnp\u001b[0m\u001b[0;34m.\u001b[0m\u001b[0mreshape\u001b[0m\u001b[0;34m(\u001b[0m\u001b[0mx\u001b[0m\u001b[0;34m,\u001b[0m \u001b[0;34m(\u001b[0m\u001b[0mlen\u001b[0m\u001b[0;34m(\u001b[0m\u001b[0mx\u001b[0m\u001b[0;34m)\u001b[0m\u001b[0;34m,\u001b[0m \u001b[0;36m1\u001b[0m\u001b[0;34m)\u001b[0m\u001b[0;34m)\u001b[0m\u001b[0;34m\u001b[0m\u001b[0;34m\u001b[0m\u001b[0m\n\u001b[1;32m      3\u001b[0m \u001b[0merror\u001b[0m \u001b[0;34m=\u001b[0m \u001b[0;34m(\u001b[0m\u001b[0my_valid\u001b[0m\u001b[0;34m.\u001b[0m\u001b[0mreshape\u001b[0m\u001b[0;34m(\u001b[0m\u001b[0;34m-\u001b[0m\u001b[0;36m1\u001b[0m\u001b[0;34m)\u001b[0m \u001b[0;34m-\u001b[0m \u001b[0my_valid_predict\u001b[0m\u001b[0;34m.\u001b[0m\u001b[0mreshape\u001b[0m\u001b[0;34m(\u001b[0m\u001b[0;34m-\u001b[0m\u001b[0;36m1\u001b[0m\u001b[0;34m)\u001b[0m\u001b[0;34m)\u001b[0m \u001b[0;34m/\u001b[0m \u001b[0my_valid\u001b[0m\u001b[0;34m.\u001b[0m\u001b[0mreshape\u001b[0m\u001b[0;34m(\u001b[0m\u001b[0;34m-\u001b[0m\u001b[0;36m1\u001b[0m\u001b[0;34m)\u001b[0m\u001b[0;34m\u001b[0m\u001b[0;34m\u001b[0m\u001b[0m\n\u001b[0;32m----> 4\u001b[0;31m \u001b[0mplt\u001b[0m\u001b[0;34m.\u001b[0m\u001b[0mplot\u001b[0m\u001b[0;34m(\u001b[0m\u001b[0mx\u001b[0m\u001b[0;34m,\u001b[0m \u001b[0merror\u001b[0m\u001b[0;34m,\u001b[0m \u001b[0;34m'g'\u001b[0m\u001b[0;34m)\u001b[0m\u001b[0;34m\u001b[0m\u001b[0;34m\u001b[0m\u001b[0m\n\u001b[0m\u001b[1;32m      5\u001b[0m \u001b[0mplt\u001b[0m\u001b[0;34m.\u001b[0m\u001b[0mshow\u001b[0m\u001b[0;34m(\u001b[0m\u001b[0;34m)\u001b[0m\u001b[0;34m\u001b[0m\u001b[0;34m\u001b[0m\u001b[0m\n",
      "\u001b[0;32m/opt/conda/lib/python3.8/site-packages/matplotlib/pyplot.py\u001b[0m in \u001b[0;36mplot\u001b[0;34m(scalex, scaley, data, *args, **kwargs)\u001b[0m\n\u001b[1;32m   2767\u001b[0m \u001b[0;34m@\u001b[0m\u001b[0m_copy_docstring_and_deprecators\u001b[0m\u001b[0;34m(\u001b[0m\u001b[0mAxes\u001b[0m\u001b[0;34m.\u001b[0m\u001b[0mplot\u001b[0m\u001b[0;34m)\u001b[0m\u001b[0;34m\u001b[0m\u001b[0;34m\u001b[0m\u001b[0m\n\u001b[1;32m   2768\u001b[0m \u001b[0;32mdef\u001b[0m \u001b[0mplot\u001b[0m\u001b[0;34m(\u001b[0m\u001b[0;34m*\u001b[0m\u001b[0margs\u001b[0m\u001b[0;34m,\u001b[0m \u001b[0mscalex\u001b[0m\u001b[0;34m=\u001b[0m\u001b[0;32mTrue\u001b[0m\u001b[0;34m,\u001b[0m \u001b[0mscaley\u001b[0m\u001b[0;34m=\u001b[0m\u001b[0;32mTrue\u001b[0m\u001b[0;34m,\u001b[0m \u001b[0mdata\u001b[0m\u001b[0;34m=\u001b[0m\u001b[0;32mNone\u001b[0m\u001b[0;34m,\u001b[0m \u001b[0;34m**\u001b[0m\u001b[0mkwargs\u001b[0m\u001b[0;34m)\u001b[0m\u001b[0;34m:\u001b[0m\u001b[0;34m\u001b[0m\u001b[0;34m\u001b[0m\u001b[0m\n\u001b[0;32m-> 2769\u001b[0;31m     return gca().plot(\n\u001b[0m\u001b[1;32m   2770\u001b[0m         \u001b[0;34m*\u001b[0m\u001b[0margs\u001b[0m\u001b[0;34m,\u001b[0m \u001b[0mscalex\u001b[0m\u001b[0;34m=\u001b[0m\u001b[0mscalex\u001b[0m\u001b[0;34m,\u001b[0m \u001b[0mscaley\u001b[0m\u001b[0;34m=\u001b[0m\u001b[0mscaley\u001b[0m\u001b[0;34m,\u001b[0m\u001b[0;34m\u001b[0m\u001b[0;34m\u001b[0m\u001b[0m\n\u001b[1;32m   2771\u001b[0m         **({\"data\": data} if data is not None else {}), **kwargs)\n",
      "\u001b[0;32m/opt/conda/lib/python3.8/site-packages/matplotlib/axes/_axes.py\u001b[0m in \u001b[0;36mplot\u001b[0;34m(self, scalex, scaley, data, *args, **kwargs)\u001b[0m\n\u001b[1;32m   1630\u001b[0m         \"\"\"\n\u001b[1;32m   1631\u001b[0m         \u001b[0mkwargs\u001b[0m \u001b[0;34m=\u001b[0m \u001b[0mcbook\u001b[0m\u001b[0;34m.\u001b[0m\u001b[0mnormalize_kwargs\u001b[0m\u001b[0;34m(\u001b[0m\u001b[0mkwargs\u001b[0m\u001b[0;34m,\u001b[0m \u001b[0mmlines\u001b[0m\u001b[0;34m.\u001b[0m\u001b[0mLine2D\u001b[0m\u001b[0;34m)\u001b[0m\u001b[0;34m\u001b[0m\u001b[0;34m\u001b[0m\u001b[0m\n\u001b[0;32m-> 1632\u001b[0;31m         \u001b[0mlines\u001b[0m \u001b[0;34m=\u001b[0m \u001b[0;34m[\u001b[0m\u001b[0;34m*\u001b[0m\u001b[0mself\u001b[0m\u001b[0;34m.\u001b[0m\u001b[0m_get_lines\u001b[0m\u001b[0;34m(\u001b[0m\u001b[0;34m*\u001b[0m\u001b[0margs\u001b[0m\u001b[0;34m,\u001b[0m \u001b[0mdata\u001b[0m\u001b[0;34m=\u001b[0m\u001b[0mdata\u001b[0m\u001b[0;34m,\u001b[0m \u001b[0;34m**\u001b[0m\u001b[0mkwargs\u001b[0m\u001b[0;34m)\u001b[0m\u001b[0;34m]\u001b[0m\u001b[0;34m\u001b[0m\u001b[0;34m\u001b[0m\u001b[0m\n\u001b[0m\u001b[1;32m   1633\u001b[0m         \u001b[0;32mfor\u001b[0m \u001b[0mline\u001b[0m \u001b[0;32min\u001b[0m \u001b[0mlines\u001b[0m\u001b[0;34m:\u001b[0m\u001b[0;34m\u001b[0m\u001b[0;34m\u001b[0m\u001b[0m\n\u001b[1;32m   1634\u001b[0m             \u001b[0mself\u001b[0m\u001b[0;34m.\u001b[0m\u001b[0madd_line\u001b[0m\u001b[0;34m(\u001b[0m\u001b[0mline\u001b[0m\u001b[0;34m)\u001b[0m\u001b[0;34m\u001b[0m\u001b[0;34m\u001b[0m\u001b[0m\n",
      "\u001b[0;32m/opt/conda/lib/python3.8/site-packages/matplotlib/axes/_base.py\u001b[0m in \u001b[0;36m__call__\u001b[0;34m(self, data, *args, **kwargs)\u001b[0m\n\u001b[1;32m    310\u001b[0m                 \u001b[0mthis\u001b[0m \u001b[0;34m+=\u001b[0m \u001b[0margs\u001b[0m\u001b[0;34m[\u001b[0m\u001b[0;36m0\u001b[0m\u001b[0;34m]\u001b[0m\u001b[0;34m,\u001b[0m\u001b[0;34m\u001b[0m\u001b[0;34m\u001b[0m\u001b[0m\n\u001b[1;32m    311\u001b[0m                 \u001b[0margs\u001b[0m \u001b[0;34m=\u001b[0m \u001b[0margs\u001b[0m\u001b[0;34m[\u001b[0m\u001b[0;36m1\u001b[0m\u001b[0;34m:\u001b[0m\u001b[0;34m]\u001b[0m\u001b[0;34m\u001b[0m\u001b[0;34m\u001b[0m\u001b[0m\n\u001b[0;32m--> 312\u001b[0;31m             \u001b[0;32myield\u001b[0m \u001b[0;32mfrom\u001b[0m \u001b[0mself\u001b[0m\u001b[0;34m.\u001b[0m\u001b[0m_plot_args\u001b[0m\u001b[0;34m(\u001b[0m\u001b[0mthis\u001b[0m\u001b[0;34m,\u001b[0m \u001b[0mkwargs\u001b[0m\u001b[0;34m)\u001b[0m\u001b[0;34m\u001b[0m\u001b[0;34m\u001b[0m\u001b[0m\n\u001b[0m\u001b[1;32m    313\u001b[0m \u001b[0;34m\u001b[0m\u001b[0m\n\u001b[1;32m    314\u001b[0m     \u001b[0;32mdef\u001b[0m \u001b[0mget_next_color\u001b[0m\u001b[0;34m(\u001b[0m\u001b[0mself\u001b[0m\u001b[0;34m)\u001b[0m\u001b[0;34m:\u001b[0m\u001b[0;34m\u001b[0m\u001b[0;34m\u001b[0m\u001b[0m\n",
      "\u001b[0;32m/opt/conda/lib/python3.8/site-packages/matplotlib/axes/_base.py\u001b[0m in \u001b[0;36m_plot_args\u001b[0;34m(self, tup, kwargs, return_kwargs)\u001b[0m\n\u001b[1;32m    496\u001b[0m \u001b[0;34m\u001b[0m\u001b[0m\n\u001b[1;32m    497\u001b[0m         \u001b[0;32mif\u001b[0m \u001b[0mx\u001b[0m\u001b[0;34m.\u001b[0m\u001b[0mshape\u001b[0m\u001b[0;34m[\u001b[0m\u001b[0;36m0\u001b[0m\u001b[0;34m]\u001b[0m \u001b[0;34m!=\u001b[0m \u001b[0my\u001b[0m\u001b[0;34m.\u001b[0m\u001b[0mshape\u001b[0m\u001b[0;34m[\u001b[0m\u001b[0;36m0\u001b[0m\u001b[0;34m]\u001b[0m\u001b[0;34m:\u001b[0m\u001b[0;34m\u001b[0m\u001b[0;34m\u001b[0m\u001b[0m\n\u001b[0;32m--> 498\u001b[0;31m             raise ValueError(f\"x and y must have same first dimension, but \"\n\u001b[0m\u001b[1;32m    499\u001b[0m                              f\"have shapes {x.shape} and {y.shape}\")\n\u001b[1;32m    500\u001b[0m         \u001b[0;32mif\u001b[0m \u001b[0mx\u001b[0m\u001b[0;34m.\u001b[0m\u001b[0mndim\u001b[0m \u001b[0;34m>\u001b[0m \u001b[0;36m2\u001b[0m \u001b[0;32mor\u001b[0m \u001b[0my\u001b[0m\u001b[0;34m.\u001b[0m\u001b[0mndim\u001b[0m \u001b[0;34m>\u001b[0m \u001b[0;36m2\u001b[0m\u001b[0;34m:\u001b[0m\u001b[0;34m\u001b[0m\u001b[0;34m\u001b[0m\u001b[0m\n",
      "\u001b[0;31mValueError\u001b[0m: x and y must have same first dimension, but have shapes (10,) and (100,)"
     ]
    },
    {
     "data": {
      "image/png": "[encoded data removed]",
      "text/plain": [
       "<Figure size 432x288 with 1 Axes>"
      ]
     },
     "metadata": {
      "needs_background": "light"
     },
     "output_type": "display_data"
    }
   ],
   "source": [
    "x = list(range(0, len(y_valid_predict)))\n",
    "np.reshape(x, (len(x), 1))\n",
    "error = (y_valid.reshape(-1) - y_valid_predict.reshape(-1)) / y_valid.reshape(-1)\n",
    "plt.plot(x, error, 'g')\n",
    "plt.show()"
   ]
  },
  {
   "cell_type": "code",
   "execution_count": null,
   "id": "f3c1cb10",
   "metadata": {},
   "outputs": [],
   "source": [
    "x = list(range(0, len(y)))\n",
    "np.reshape(x, (len(x), 1))\n",
    "plt.plot(x, y_predict, 'r')\n",
    "plt.plot(x, y, 'g')\n",
    "plt.show()"
   ]
  },
  {
   "cell_type": "code",
   "execution_count": null,
   "id": "a2e37bcf",
   "metadata": {},
   "outputs": [],
   "source": [
    "y[y>450]\n",
    "x = list(range(0, len(y[y>450])))\n",
    "np.reshape(x, (len(x), 1))\n",
    "plt.plot(x, y_predict[y>450], 'r')\n",
    "plt.plot(x, y[y>450], 'g')\n",
    "plt.show()"
   ]
  },
  {
   "cell_type": "code",
   "execution_count": null,
   "id": "690ef423",
   "metadata": {},
   "outputs": [],
   "source": [
    "variance = mean_squared_error(y, y_predict, squared=False)"
   ]
  },
  {
   "cell_type": "code",
   "execution_count": null,
   "id": "941ebaf1",
   "metadata": {},
   "outputs": [],
   "source": [
    "variance"
   ]
  },
  {
   "cell_type": "code",
   "execution_count": null,
   "id": "57e7a59b",
   "metadata": {},
   "outputs": [],
   "source": [
    "c = 1.96"
   ]
  },
  {
   "cell_type": "code",
   "execution_count": null,
   "id": "dad141eb",
   "metadata": {},
   "outputs": [],
   "source": [
    "x_draw = list(range(22))\n",
    "y_draw = y_predict[-30:-8]\n",
    "plt.plot(x_draw, y_draw, color='r')\n",
    "plt.fill_between(x_draw[-2:], y_draw[-2:].reshape(-1) - c * variance, y_draw[-2:].reshape(-1) + c * variance, color='r', alpha=.1)"
   ]
  },
  {
   "cell_type": "code",
   "execution_count": null,
   "id": "9b94981f",
   "metadata": {},
   "outputs": [],
   "source": [
    "plt.plot(list(range(10)), y_valid_predict[0])\n",
    "plt.plot(list(range(10)), y_valid[0])"
   ]
  },
  {
   "cell_type": "code",
   "execution_count": 34,
   "id": "2cda352d",
   "metadata": {},
   "outputs": [],
   "source": [
    "variances = np.array([mean_squared_error(y[:, i:i+1], y_predict[:, i:i+1], squared=False) for i in range(10)])"
   ]
  },
  {
   "cell_type": "code",
   "execution_count": 35,
   "id": "5bfb1ba8",
   "metadata": {},
   "outputs": [],
   "source": [
    "def draw_confidence_intervals(y_true, y_predict, variances=0, c=1.96):\n",
    "    x_draw = list(range(len(y_true)))\n",
    "    plt.plot(x_draw, y_predict, color='r')\n",
    "    plt.plot(x_draw, y_true, color='g')\n",
    "    plt.fill_between(x_draw, y_predict.reshape(-1) - variances * c, y_predict.reshape(-1) + variances * c, color='r', alpha=0.1)"
   ]
  },
  {
   "cell_type": "code",
   "execution_count": 36,
   "id": "41ebe2e0",
   "metadata": {},
   "outputs": [
    {
     "data": {
      "image/png": "[encoded data removed]",
      "text/plain": [
       "<Figure size 432x288 with 1 Axes>"
      ]
     },
     "metadata": {
      "needs_background": "light"
     },
     "output_type": "display_data"
    }
   ],
   "source": [
    "draw_confidence_intervals(y_valid[0], y_valid_predict[0], variances)"
   ]
  },
  {
   "cell_type": "code",
   "execution_count": 43,
   "id": "94e99199",
   "metadata": {},
   "outputs": [],
   "source": [
    "def draw_crit_lines(crit_levels=[400]):\n",
    "    x = df.Timestamp.to_numpy(dtype=np.datetime64)[-y.shape[0]:]\n",
    "    y_crit = np.zeros(y.shape[0])\n",
    "    y_predict_crit = np.zeros(y.shape[0])\n",
    "    for i in range(len(crit_levels)):\n",
    "        y_crit[y[:, 0]>=crit_levels[i]]=i+1\n",
    "        y_predict_crit[y_predict[:, 0]>=crit_levels[i]]=i+1\n",
    "    \n",
    "    plt.plot(x, y_crit, color='g')\n",
    "    plt.plot(x, y_predict_crit, color='r')"
   ]
  },
  {
   "cell_type": "code",
   "execution_count": 46,
   "id": "843bb4f7",
   "metadata": {},
   "outputs": [
    {
     "data": {
      "image/png": "[encoded data removed]",
      "text/plain": [
       "<Figure size 432x288 with 1 Axes>"
      ]
     },
     "metadata": {
      "needs_background": "light"
     },
     "output_type": "display_data"
    }
   ],
   "source": [
    "draw_crit_lines([300, 400, 500, 600, 700, 800])"
   ]
  }
 ],
 "metadata": {
  "kernelspec": {
   "display_name": "Python 3 (ipykernel)",
   "language": "python",
   "name": "python3"
  },
  "language_info": {
   "codemirror_mode": {
    "name": "ipython",
    "version": 3
   },
   "file_extension": ".py",
   "mimetype": "text/x-python",
   "name": "python",
   "nbconvert_exporter": "python",
   "pygments_lexer": "ipython3",
   "version": "3.8.12"
  }
 },
 "nbformat": 4,
 "nbformat_minor": 5
}
