{
 "cells": [
  {
   "cell_type": "code",
   "execution_count": 22,
   "id": "ad963e6b",
   "metadata": {},
   "outputs": [],
   "source": [
    "import pandas as pd\n",
    "import numpy as np\n",
    "\n",
    "from tsai.models.MINIROCKET import *\n",
    "from sklearn.model_selection import train_test_split\n",
    "from sklearn.metrics import mean_squared_error, mean_absolute_error, make_scorer\n",
    "from sklearn.utils import shuffle"
   ]
  },
  {
   "cell_type": "code",
   "execution_count": 6,
   "id": "1d27f550",
   "metadata": {},
   "outputs": [
    {
     "data": {
      "text/html": [
       "<div>\n",
       "<style scoped>\n",
       "    .dataframe tbody tr th:only-of-type {\n",
       "        vertical-align: middle;\n",
       "    }\n",
       "\n",
       "    .dataframe tbody tr th {\n",
       "        vertical-align: top;\n",
       "    }\n",
       "\n",
       "    .dataframe thead th {\n",
       "        text-align: right;\n",
       "    }\n",
       "</style>\n",
       "<table border=\"1\" class=\"dataframe\">\n",
       "  <thead>\n",
       "    <tr style=\"text-align: right;\">\n",
       "      <th></th>\n",
       "      <th>Unnamed: 0</th>\n",
       "      <th>zeya-malayasazanka</th>\n",
       "      <th>zeya-svobodny</th>\n",
       "      <th>zeya-blagoveshensk</th>\n",
       "      <th>zeya-mazanovo</th>\n",
       "      <th>zeya-belogorye</th>\n",
       "    </tr>\n",
       "  </thead>\n",
       "  <tbody>\n",
       "    <tr>\n",
       "      <th>0</th>\n",
       "      <td>2008-01-01</td>\n",
       "      <td>435.0</td>\n",
       "      <td>163.0</td>\n",
       "      <td>148.0</td>\n",
       "      <td>218.0</td>\n",
       "      <td>341.0</td>\n",
       "    </tr>\n",
       "    <tr>\n",
       "      <th>1</th>\n",
       "      <td>2008-01-02</td>\n",
       "      <td>441.0</td>\n",
       "      <td>162.0</td>\n",
       "      <td>151.0</td>\n",
       "      <td>222.0</td>\n",
       "      <td>350.0</td>\n",
       "    </tr>\n",
       "    <tr>\n",
       "      <th>2</th>\n",
       "      <td>2008-01-03</td>\n",
       "      <td>447.0</td>\n",
       "      <td>161.0</td>\n",
       "      <td>157.0</td>\n",
       "      <td>226.0</td>\n",
       "      <td>361.0</td>\n",
       "    </tr>\n",
       "    <tr>\n",
       "      <th>3</th>\n",
       "      <td>2008-01-04</td>\n",
       "      <td>447.0</td>\n",
       "      <td>154.0</td>\n",
       "      <td>163.0</td>\n",
       "      <td>230.0</td>\n",
       "      <td>367.0</td>\n",
       "    </tr>\n",
       "    <tr>\n",
       "      <th>4</th>\n",
       "      <td>2008-01-05</td>\n",
       "      <td>443.0</td>\n",
       "      <td>144.0</td>\n",
       "      <td>168.0</td>\n",
       "      <td>222.0</td>\n",
       "      <td>364.0</td>\n",
       "    </tr>\n",
       "    <tr>\n",
       "      <th>...</th>\n",
       "      <td>...</td>\n",
       "      <td>...</td>\n",
       "      <td>...</td>\n",
       "      <td>...</td>\n",
       "      <td>...</td>\n",
       "      <td>...</td>\n",
       "    </tr>\n",
       "    <tr>\n",
       "      <th>5254</th>\n",
       "      <td>2022-05-21</td>\n",
       "      <td>500.0</td>\n",
       "      <td>227.0</td>\n",
       "      <td>169.0</td>\n",
       "      <td>219.0</td>\n",
       "      <td>393.0</td>\n",
       "    </tr>\n",
       "    <tr>\n",
       "      <th>5255</th>\n",
       "      <td>2022-05-22</td>\n",
       "      <td>533.0</td>\n",
       "      <td>247.0</td>\n",
       "      <td>174.0</td>\n",
       "      <td>203.0</td>\n",
       "      <td>412.0</td>\n",
       "    </tr>\n",
       "    <tr>\n",
       "      <th>5256</th>\n",
       "      <td>2022-05-23</td>\n",
       "      <td>533.0</td>\n",
       "      <td>234.0</td>\n",
       "      <td>181.0</td>\n",
       "      <td>228.0</td>\n",
       "      <td>412.0</td>\n",
       "    </tr>\n",
       "    <tr>\n",
       "      <th>5257</th>\n",
       "      <td>2022-05-24</td>\n",
       "      <td>522.0</td>\n",
       "      <td>224.0</td>\n",
       "      <td>190.0</td>\n",
       "      <td>324.0</td>\n",
       "      <td>404.0</td>\n",
       "    </tr>\n",
       "    <tr>\n",
       "      <th>5258</th>\n",
       "      <td>2022-05-25</td>\n",
       "      <td>570.0</td>\n",
       "      <td>298.0</td>\n",
       "      <td>196.0</td>\n",
       "      <td>372.0</td>\n",
       "      <td>446.0</td>\n",
       "    </tr>\n",
       "  </tbody>\n",
       "</table>\n",
       "<p>5259 rows × 6 columns</p>\n",
       "</div>"
      ],
      "text/plain": [
       "      Unnamed: 0  zeya-malayasazanka  zeya-svobodny  zeya-blagoveshensk  \\\n",
       "0     2008-01-01               435.0          163.0               148.0   \n",
       "1     2008-01-02               441.0          162.0               151.0   \n",
       "2     2008-01-03               447.0          161.0               157.0   \n",
       "3     2008-01-04               447.0          154.0               163.0   \n",
       "4     2008-01-05               443.0          144.0               168.0   \n",
       "...          ...                 ...            ...                 ...   \n",
       "5254  2022-05-21               500.0          227.0               169.0   \n",
       "5255  2022-05-22               533.0          247.0               174.0   \n",
       "5256  2022-05-23               533.0          234.0               181.0   \n",
       "5257  2022-05-24               522.0          224.0               190.0   \n",
       "5258  2022-05-25               570.0          298.0               196.0   \n",
       "\n",
       "      zeya-mazanovo  zeya-belogorye  \n",
       "0             218.0           341.0  \n",
       "1             222.0           350.0  \n",
       "2             226.0           361.0  \n",
       "3             230.0           367.0  \n",
       "4             222.0           364.0  \n",
       "...             ...             ...  \n",
       "5254          219.0           393.0  \n",
       "5255          203.0           412.0  \n",
       "5256          228.0           412.0  \n",
       "5257          324.0           404.0  \n",
       "5258          372.0           446.0  \n",
       "\n",
       "[5259 rows x 6 columns]"
      ]
     },
     "execution_count": 6,
     "metadata": {},
     "output_type": "execute_result"
    }
   ],
   "source": [
    "#Загружаем датасет\n",
    "df = pd.read_csv('data/data_2022/only_zeya_fixed_actual_data.csv')\n",
    "df"
   ]
  },
  {
   "cell_type": "code",
   "execution_count": 15,
   "id": "45d287ce",
   "metadata": {},
   "outputs": [
    {
     "data": {
      "text/plain": [
       "(4894, 4, 365)"
      ]
     },
     "execution_count": 15,
     "metadata": {},
     "output_type": "execute_result"
    }
   ],
   "source": [
    "# X - Признаки(данные без благовещенска)\n",
    "# y - Предикт (Только Благовещенск), т.к. предсказываем для благовещенска\n",
    "def create_dataset(df_without_blagoveshensk, num_days=365):\n",
    "    number_of_frames = df_without_blagoveshensk.to_numpy().shape[1]\n",
    "    X = df_without_blagoveshensk.to_numpy().reshape(-1, number_of_frames, 1)\n",
    "    array_for_concat = []\n",
    "    for i in range(num_days):\n",
    "        array_for_concat.append(X[i:X.shape[0]-(num_days - i)])\n",
    "    new_X = np.concatenate(array_for_concat, axis=-1)\n",
    "    y = df_without_blagoveshensk.to_numpy()[num_days:]\n",
    "    \n",
    "    return new_X, y\n",
    "\n",
    "df_without_blagoveshensk = df[['zeya-malayasazanka', 'zeya-svobodny', 'zeya-mazanovo', 'zeya-belogorye']]\n",
    "df_only_blagoveshensk = df[['zeya-blagoveshensk']]\n",
    "X, y = create_dataset(df_without_blagoveshensk)\n",
    "X.shape"
   ]
  },
  {
   "cell_type": "code",
   "execution_count": 16,
   "id": "2585ba90",
   "metadata": {},
   "outputs": [
    {
     "data": {
      "text/plain": [
       "(4884, 4, 365)"
      ]
     },
     "execution_count": 16,
     "metadata": {},
     "output_type": "execute_result"
    }
   ],
   "source": [
    "X_train, X_valid, y_train, y_valid = train_test_split(X, y, test_size=10, shuffle=False)\n",
    "X_train.shape"
   ]
  },
  {
   "cell_type": "code",
   "execution_count": 24,
   "id": "fa5e135c",
   "metadata": {},
   "outputs": [
    {
     "name": "stdout",
     "output_type": "stream",
     "text": [
      "valid rmse        : 37.75821\n",
      "valid mae        : 29.73413\n"
     ]
    }
   ],
   "source": [
    "# Univariate regression with sklearn-type API\n",
    "\n",
    "# X_train, y_train = shuffle(X_train, y_train)\n",
    "\n",
    "rmse_scorer = make_scorer(mean_squared_error, greater_is_better=False)\n",
    "model = MiniRocketRegressor(scoring=rmse_scorer)\n",
    "#print(model)\n",
    "# timer.start(False)\n",
    "model.fit(X_train, y_train)\n",
    "# t = timer.stop()\n",
    "y_pred = model.predict(X_valid)\n",
    "rmse = mean_squared_error(y_valid, y_pred, squared=False)\n",
    "mae = mean_absolute_error(y_valid, y_pred)\n",
    "print(f'valid rmse        : {rmse:.5f}')\n",
    "print(f'valid mae        : {mae:.5f}')"
   ]
  },
  {
   "cell_type": "code",
   "execution_count": null,
   "id": "699b4c53",
   "metadata": {},
   "outputs": [],
   "source": []
  }
 ],
 "metadata": {
  "kernelspec": {
   "display_name": "Python 3 (ipykernel)",
   "language": "python",
   "name": "python3"
  },
  "language_info": {
   "codemirror_mode": {
    "name": "ipython",
    "version": 3
   },
   "file_extension": ".py",
   "mimetype": "text/x-python",
   "name": "python",
   "nbconvert_exporter": "python",
   "pygments_lexer": "ipython3",
   "version": "3.8.13"
  }
 },
 "nbformat": 4,
 "nbformat_minor": 5
}
